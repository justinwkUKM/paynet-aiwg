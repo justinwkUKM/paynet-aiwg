{
  "nbformat": 4,
  "nbformat_minor": 0,
  "metadata": {
    "colab": {
      "provenance": []
    },
    "kernelspec": {
      "name": "python3",
      "display_name": "Python 3"
    },
    "language_info": {
      "name": "python"
    }
  },
  "cells": [
    {
      "cell_type": "markdown",
      "metadata": {
        "id": "ad34bdfb"
      },
      "source": [
        "### Installation\n",
        "\n",
        "This cell installs the necessary libraries from the `requirements.txt` file. This ensures that all dependencies required for the notebook to run correctly are installed in the Colab environment."
      ]
    },
    {
      "cell_type": "code",
      "metadata": {
        "id": "91619637"
      },
      "source": [
        "!pip install -r requirements.txt"
      ],
      "execution_count": null,
      "outputs": []
    },
    {
      "cell_type": "markdown",
      "metadata": {
        "id": "05cee6da"
      },
      "source": [
        "### API Key and URL Setup\n",
        "\n",
        "This cell imports the `litellm` and `openai` libraries, as well as `userdata` from `google.colab` to securely access secrets stored in the Colab environment. It then retrieves the `LITELLM_API_KEY`, `LITELLM_URL`, and `MODEL` from Colab's user data secrets, assigning them to variables for later use."
      ]
    },
    {
      "cell_type": "code",
      "metadata": {
        "id": "f3cc9f18"
      },
      "source": [
        "import litellm\n",
        "from openai import OpenAI\n",
        "from google.colab import userdata\n",
        "\n",
        "LITELLM_API_KEY = userdata.get('LITELLM_API_KEY')\n",
        "LITELLM_URL = userdata.get('LITELLM_URL')\n",
        "MODEL = userdata.get('LITELLM_MODEL')"
      ],
      "execution_count": 58,
      "outputs": []
    },
    {
      "cell_type": "markdown",
      "metadata": {
        "id": "d63ac53c"
      },
      "source": [
        "### Initialize OpenAI Client\n",
        "\n",
        "This cell initializes an `OpenAI` client instance. It uses the `LITELLM_URL` as the `base_url` to point to the LiteLLM proxy and the `LITELLM_API_KEY` for authentication. This client will be used to interact with the language model through the LiteLLM proxy."
      ]
    },
    {
      "cell_type": "code",
      "metadata": {
        "id": "7d13ba7f"
      },
      "source": [
        "# Initialize client with your proxy URL\n",
        "client = OpenAI(\n",
        "    base_url=LITELLM_URL,  # Your proxy URL\n",
        "    api_key=LITELLM_API_KEY             # Your proxy API key\n",
        ")"
      ],
      "execution_count": null,
      "outputs": []
    },
    {
      "cell_type": "markdown",
      "metadata": {
        "id": "212b2ad6"
      },
      "source": [
        "### Generate Non-Streaming Response\n",
        "\n",
        "This cell demonstrates how to generate a non-streaming response from the language model using the initialized `client`. It sends a prompt asking for a two-sentence bedtime story about a unicorn and stores the entire response in the `response` variable."
      ]
    },
    {
      "cell_type": "code",
      "metadata": {
        "id": "e1f94876"
      },
      "source": [
        "# non streaming response\n",
        "response = client.responses.create(\n",
        "    model=MODEL,\n",
        "    input=\"Tell me a two sentence bedtime story about a unicorn.\",\n",
        ")"
      ],
      "execution_count": null,
      "outputs": []
    },
    {
      "cell_type": "markdown",
      "metadata": {
        "id": "05145a60"
      },
      "source": [
        "### Display Non-Streaming Response\n",
        "\n",
        "This cell displays the complete `response` object obtained from the previous non-streaming call. This allows you to see the full structure of the response, including metadata, usage information, and the generated content."
      ]
    },
    {
      "cell_type": "code",
      "metadata": {
        "id": "54b66c74"
      },
      "source": [
        "response"
      ],
      "execution_count": null,
      "outputs": []
    },
    {
      "cell_type": "markdown",
      "metadata": {
        "id": "e4a9716e"
      },
      "source": [
        "### Generate Streaming Response\n",
        "\n",
        "This cell is similar to the non-streaming example but configures the client for streaming responses. It sends the same prompt and prints the response as it is generated, which can be useful for larger outputs or interactive applications."
      ]
    },
    {
      "cell_type": "code",
      "metadata": {
        "id": "38a09c42",
        "colab": {
          "base_uri": "https://localhost:8080/"
        },
        "outputId": "e4139af9-622c-4cb1-98d0-824ec8a4e00e"
      },
      "source": [
        "# Streaming response\n",
        "response = client.responses.create(\n",
        "    model=MODEL,\n",
        "    input=\"Tell me a four sentence bedtime poem about a unicorn from klang valley.\",\n",
        "    stream=True,\n",
        ")\n",
        "\n",
        "full_text = []\n",
        "\n",
        "for event in response:\n",
        "    # Check if the event is a text delta\n",
        "    if event.type == \"response.output_text.delta\":\n",
        "        chunk = event.delta\n",
        "        print(chunk, end=\"\", flush=True)   # stream piece by piece\n",
        "        full_text.append(chunk)\n",
        "    elif event.type == \"response.completed\":\n",
        "        print(\"\\n\\n[sstreameeerrrrred successfully!!!]\")\n",
        "    elif event.type == \"response.error\":\n",
        "        print(f\"\\n[error] {event.error}\")\n",
        "\n",
        "final_text = \"\".join(full_text)\n",
        "print(\"\\nFinal text:\", final_text)\n"
      ],
      "execution_count": null,
      "outputs": [
        {
          "output_type": "stream",
          "name": "stdout",
          "text": [
            "Here's a gentle bedtime poem about a unicorn from Klang Valley:\n",
            "\n",
            "In Klang Valley where the city lights gleam bright,\n",
            "A magical unicorn appears each starry night.\n",
            "With silver horn and mane of flowing white,\n",
            "She sprinkles dreams until the morning light.\n",
            "\n",
            "[sstreameeerrrrred successfully!!!]\n",
            "\n",
            "Final text: Here's a gentle bedtime poem about a unicorn from Klang Valley:\n",
            "\n",
            "In Klang Valley where the city lights gleam bright,\n",
            "A magical unicorn appears each starry night.\n",
            "With silver horn and mane of flowing white,\n",
            "She sprinkles dreams until the morning light.\n"
          ]
        }
      ]
    },
    {
      "cell_type": "markdown",
      "metadata": {
        "id": "488ef7eb"
      },
      "source": [
        "### Import Langgraph Components\n",
        "\n",
        "This cell imports necessary components from the `langgraph` library, specifically `create_react_agent` for building reactive agents. It also imports `OpenAI` and `load_dotenv` (although `load_dotenv` is not strictly necessary when using Colab secrets) and `ChatLiteLLM` from `langchain_litellm` for integrating LiteLLM with Langchain, and `InMemorySaver` for managing conversation history."
      ]
    },
    {
      "cell_type": "code",
      "metadata": {
        "id": "be519944"
      },
      "source": [
        "from langgraph.prebuilt import create_react_agent\n",
        "import os\n",
        "from openai import OpenAI\n",
        "from dotenv import load_dotenv\n",
        "from langchain_litellm import ChatLiteLLM\n",
        "from langgraph.checkpoint.memory import InMemorySaver"
      ],
      "execution_count": null,
      "outputs": []
    },
    {
      "cell_type": "markdown",
      "metadata": {
        "id": "19e2758b"
      },
      "source": [
        "### Define Langchain Model with LiteLLM\n",
        "\n",
        "This cell defines the language model to be used within the Langchain framework, leveraging the LiteLLM integration. It initializes `ChatLiteLLM` with the previously retrieved `MODEL`, `LITELLM_URL`, and `LITELLM_API_KEY`. It also sets `custom_llm_provider` to \"openai\" to ensure compatibility with Langchain's OpenAI integration, enables streaming, and sets the temperature to 0 for deterministic output."
      ]
    },
    {
      "cell_type": "code",
      "metadata": {
        "id": "8e31a1e5"
      },
      "source": [
        "# 1. Define the model\n",
        "model = ChatLiteLLM(\n",
        "    model=MODEL, # configured in LiteLLM\n",
        "    api_base=LITELLM_URL, # URL to the LiteLLM server\n",
        "    api_key=LITELLM_API_KEY, # API key for LiteLLM\n",
        "    # organization=os.getenv(\"ORG\"), # organization configured in LiteLLM\n",
        "    custom_llm_provider=\"openai\", # mimic OpenAI API\n",
        "    temperature=0.0, # temperature for the model\n",
        "    streaming=True, # enable streaming\n",
        "    verbose=True, # enable verbose logging\n",
        ")"
      ],
      "execution_count": null,
      "outputs": []
    },
    {
      "cell_type": "markdown",
      "metadata": {
        "id": "54d6d930"
      },
      "source": [
        "### Define Checkpointer and Tool\n",
        "\n",
        "This cell sets up an `InMemorySaver` as a checkpointer to store the conversation history in memory. It also defines a simple Python function `get_weather` that acts as a tool for the agent. This tool takes a city name as input and returns a hardcoded string indicating sunny weather. In a real application, this would typically involve calling an external weather API."
      ]
    },
    {
      "cell_type": "code",
      "metadata": {
        "id": "a7aa91aa"
      },
      "source": [
        "checkpointer = InMemorySaver()\n",
        "\n",
        "def get_weather(city: str) -> str:\n",
        "    \"\"\"Get weather for a given city.\"\"\"\n",
        "    print(f\"Getting weather for city: {city}\")\n",
        "    return f\"It's always sunny in {city}!\""
      ],
      "execution_count": null,
      "outputs": []
    },
    {
      "cell_type": "markdown",
      "metadata": {
        "id": "5dcc2447"
      },
      "source": [
        "### Create React Agent\n",
        "\n",
        "This cell creates a \"React\" agent using `create_react_agent`. This agent is designed to react to user input and decide whether to use an available tool (like the `get_weather` function) or directly respond. It's initialized with the `model`, the list of available `tools`, a system `prompt`, and the `checkpointer` for managing conversation state."
      ]
    },
    {
      "cell_type": "code",
      "metadata": {
        "id": "2ab43bf6"
      },
      "source": [
        "agent = create_react_agent(\n",
        "    model=model,\n",
        "    tools=[get_weather],\n",
        "    prompt=\"You are a helpful assistant\",\n",
        "    checkpointer=checkpointer\n",
        ")"
      ],
      "execution_count": null,
      "outputs": []
    },
    {
      "cell_type": "markdown",
      "metadata": {
        "id": "ea82afdd"
      },
      "source": [
        "### Define Thread ID\n",
        "\n",
        "This cell defines a dictionary `thread_id` that will be used to identify a specific conversation thread. This is important for the checkpointer to store and retrieve the correct conversation history."
      ]
    },
    {
      "cell_type": "code",
      "metadata": {
        "id": "cf42aac7"
      },
      "source": [
        "thread_id = {\"configurable\": {\"thread_id\": \"thread-1\"}}"
      ],
      "execution_count": null,
      "outputs": []
    },
    {
      "cell_type": "markdown",
      "metadata": {
        "id": "3270dc25"
      },
      "source": [
        "### Invoke Agent with Initial Message\n",
        "\n",
        "This cell invokes the `agent` with an initial message from the user (\"hi! i am from kuala lumpur\"). The `thread_id` is passed in the configuration to associate this message with the defined thread. The agent processes this message and generates a response."
      ]
    },
    {
      "cell_type": "code",
      "metadata": {
        "id": "d21252f6"
      },
      "source": [
        "agent.invoke(\n",
        "    {\"messages\": [{\"role\": \"user\", \"content\": \"hi! i am from kuala lumpur\"}]},\n",
        "    {\"configurable\": {\"thread_id\": \"1\"}},\n",
        ")"
      ],
      "execution_count": null,
      "outputs": []
    },
    {
      "cell_type": "markdown",
      "metadata": {
        "id": "d04192db"
      },
      "source": [
        "### Invoke Agent to Get Weather\n",
        "\n",
        "This cell invokes the `agent` again, this time with a message asking about the weather in the user's city (\"What is the weather in my city?\"). Since the agent remembers the previous conversation in the same thread (due to the checkpointer and thread ID), it knows the user is from Kuala Lumpur and can use the `get_weather` tool."
      ]
    },
    {
      "cell_type": "code",
      "metadata": {
        "id": "953e772b"
      },
      "source": [
        "response = agent.invoke(\n",
        "    {\"messages\": [{\"role\": \"user\", \"content\": \"What is the weather in my city?\"}]},\n",
        "    {\"configurable\": {\"thread_id\": \"1\"}},\n",
        ")"
      ],
      "execution_count": null,
      "outputs": []
    },
    {
      "cell_type": "markdown",
      "metadata": {
        "id": "33b82865"
      },
      "source": [
        "### Print Final Response Object\n",
        "\n",
        "This cell prints the complete `response` object from the agent's second invocation. This object contains the entire conversation history for the specified thread, including the agent's thinking process (like identifying the need to use the `get_weather` tool) and the final generated response."
      ]
    },
    {
      "cell_type": "code",
      "metadata": {
        "id": "563e4cf0"
      },
      "source": [
        "print(\"Final response object:\", response)"
      ],
      "execution_count": null,
      "outputs": []
    },
    {
      "cell_type": "markdown",
      "metadata": {
        "id": "1f48e695"
      },
      "source": [
        "### Print Final Output\n",
        "\n",
        "This cell extracts and prints only the content of the last message in the `response` object. This represents the final, human-readable response from the agent after it has processed the user's query and used any necessary tools."
      ]
    },
    {
      "cell_type": "code",
      "metadata": {
        "id": "c952c2e0"
      },
      "source": [
        "print(\"Final Output -> \", response[\"messages\"][-1].content)"
      ],
      "execution_count": null,
      "outputs": []
    },
    {
      "cell_type": "code",
      "source": [
        "from langchain_core.messages import AnyMessage\n",
        "from typing_extensions import TypedDict\n",
        "\n",
        "class State(TypedDict):\n",
        "    messages: list[AnyMessage]\n",
        "    extra_field: int"
      ],
      "metadata": {
        "id": "yc2ZJamdVfkL"
      },
      "execution_count": null,
      "outputs": []
    },
    {
      "cell_type": "code",
      "source": [
        "from langchain_core.messages import AIMessage\n",
        "\n",
        "def node(state: State):\n",
        "    messages = state[\"messages\"]\n",
        "    new_message = AIMessage(\"Hello!\")\n",
        "    return {\"messages\": messages + [new_message], \"extra_field\": 10}"
      ],
      "metadata": {
        "id": "4jkyMrcGbsSU"
      },
      "execution_count": null,
      "outputs": []
    },
    {
      "cell_type": "code",
      "source": [
        "from langgraph.graph import StateGraph\n",
        "\n",
        "builder = StateGraph(State)\n",
        "builder.add_node(node)\n",
        "builder.set_entry_point(\"node\")\n",
        "graph = builder.compile()"
      ],
      "metadata": {
        "id": "Qo0CI4V1e3od"
      },
      "execution_count": null,
      "outputs": []
    },
    {
      "cell_type": "code",
      "source": [
        "from IPython.display import Image, display\n",
        "\n",
        "display(Image(graph.get_graph().draw_mermaid_png()))"
      ],
      "metadata": {
        "colab": {
          "base_uri": "https://localhost:8080/",
          "height": 251
        },
        "id": "d_E9sr8JcQqA",
        "outputId": "4db4d3aa-ce6a-48b1-a840-5149e0c617eb"
      },
      "execution_count": null,
      "outputs": [
        {
          "output_type": "display_data",
          "data": {
            "image/png": "[encoded data removed]",
            "text/plain": [
              "<IPython.core.display.Image object>"
            ]
          },
          "metadata": {}
        }
      ]
    },
    {
      "cell_type": "code",
      "source": [],
      "metadata": {
        "id": "Ffmdyd23fD6M"
      },
      "execution_count": 56,
      "outputs": []
    },
    {
      "cell_type": "code",
      "source": [],
      "metadata": {
        "id": "GNbBNx1ngnZQ"
      },
      "execution_count": 56,
      "outputs": []
    },
    {
      "cell_type": "code",
      "source": [],
      "metadata": {
        "id": "qi4aaVC0gn5b"
      },
      "execution_count": null,
      "outputs": []
    }
  ]
}