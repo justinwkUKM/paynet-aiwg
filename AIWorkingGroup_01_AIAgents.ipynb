{
  "nbformat": 4,
  "nbformat_minor": 0,
  "metadata": {
    "colab": {
      "provenance": []
    },
    "kernelspec": {
      "name": "python3",
      "display_name": "Python 3"
    },
    "language_info": {
      "name": "python"
    }
  },
  "cells": [
    {
      "cell_type": "markdown",
      "metadata": {
        "id": "944031a5"
      },
      "source": [
        "### Installation\n",
        "\n",
        "This cell installs the necessary libraries from the `requirements.txt` file. This ensures that all dependencies required for the notebook to run correctly are installed in the Colab environment.\n",
        "\n",
        "**Explanation:**\n",
        "- `!pip install -r requirements.txt`: This command executes the `pip install` command in the Colab environment's shell. The `-r` flag indicates that the packages to be installed are listed in the specified file, `requirements.txt`. Colab will then download and install all libraries listed in that file."
      ]
    },
    {
      "cell_type": "code",
      "metadata": {
        "id": "91619637",
        "colab": {
          "base_uri": "https://localhost:8080/"
        },
        "outputId": "2b9e8d33-a57a-49be-aa1c-2e2c73164a97"
      },
      "source": [
        "!pip install -r requirements.txt"
      ],
      "execution_count": 49,
      "outputs": [
        {
          "output_type": "stream",
          "name": "stdout",
          "text": [
            "Requirement already satisfied: aiohappyeyeballs==2.6.1 in /usr/local/lib/python3.12/dist-packages (from -r requirements.txt (line 1)) (2.6.1)\n",
            "Requirement already satisfied: aiohttp==3.12.15 in /usr/local/lib/python3.12/dist-packages (from -r requirements.txt (line 2)) (3.12.15)\n",
            "Requirement already satisfied: aiosignal==1.4.0 in /usr/local/lib/python3.12/dist-packages (from -r requirements.txt (line 3)) (1.4.0)\n",
            "Requirement already satisfied: annotated-types==0.7.0 in /usr/local/lib/python3.12/dist-packages (from -r requirements.txt (line 4)) (0.7.0)\n",
            "Requirement already satisfied: anthropic==0.66.0 in /usr/local/lib/python3.12/dist-packages (from -r requirements.txt (line 5)) (0.66.0)\n",
            "Requirement already satisfied: anyio==4.10.0 in /usr/local/lib/python3.12/dist-packages (from -r requirements.txt (line 6)) (4.10.0)\n",
            "Requirement already satisfied: attrs==25.3.0 in /usr/local/lib/python3.12/dist-packages (from -r requirements.txt (line 7)) (25.3.0)\n",
            "Requirement already satisfied: certifi==2025.8.3 in /usr/local/lib/python3.12/dist-packages (from -r requirements.txt (line 8)) (2025.8.3)\n",
            "Requirement already satisfied: charset-normalizer==3.4.3 in /usr/local/lib/python3.12/dist-packages (from -r requirements.txt (line 9)) (3.4.3)\n",
            "Requirement already satisfied: click==8.2.1 in /usr/local/lib/python3.12/dist-packages (from -r requirements.txt (line 10)) (8.2.1)\n",
            "Requirement already satisfied: dataclasses-json==0.6.7 in /usr/local/lib/python3.12/dist-packages (from -r requirements.txt (line 11)) (0.6.7)\n",
            "Requirement already satisfied: distro==1.9.0 in /usr/local/lib/python3.12/dist-packages (from -r requirements.txt (line 12)) (1.9.0)\n",
            "Requirement already satisfied: fastuuid==0.12.0 in /usr/local/lib/python3.12/dist-packages (from -r requirements.txt (line 13)) (0.12.0)\n",
            "Requirement already satisfied: filelock==3.19.1 in /usr/local/lib/python3.12/dist-packages (from -r requirements.txt (line 14)) (3.19.1)\n",
            "Requirement already satisfied: frozenlist==1.7.0 in /usr/local/lib/python3.12/dist-packages (from -r requirements.txt (line 15)) (1.7.0)\n",
            "Requirement already satisfied: fsspec==2025.9.0 in /usr/local/lib/python3.12/dist-packages (from -r requirements.txt (line 16)) (2025.9.0)\n",
            "Requirement already satisfied: h11==0.16.0 in /usr/local/lib/python3.12/dist-packages (from -r requirements.txt (line 17)) (0.16.0)\n",
            "Requirement already satisfied: hf-xet==1.1.9 in /usr/local/lib/python3.12/dist-packages (from -r requirements.txt (line 18)) (1.1.9)\n",
            "Requirement already satisfied: httpcore==1.0.9 in /usr/local/lib/python3.12/dist-packages (from -r requirements.txt (line 19)) (1.0.9)\n",
            "Requirement already satisfied: httpx==0.28.1 in /usr/local/lib/python3.12/dist-packages (from -r requirements.txt (line 20)) (0.28.1)\n",
            "Requirement already satisfied: httpx-sse==0.4.1 in /usr/local/lib/python3.12/dist-packages (from -r requirements.txt (line 21)) (0.4.1)\n",
            "Requirement already satisfied: huggingface-hub==0.34.4 in /usr/local/lib/python3.12/dist-packages (from -r requirements.txt (line 22)) (0.34.4)\n",
            "Requirement already satisfied: idna==3.10 in /usr/local/lib/python3.12/dist-packages (from -r requirements.txt (line 23)) (3.10)\n",
            "Requirement already satisfied: importlib-metadata==8.7.0 in /usr/local/lib/python3.12/dist-packages (from -r requirements.txt (line 24)) (8.7.0)\n",
            "Requirement already satisfied: jinja2==3.1.6 in /usr/local/lib/python3.12/dist-packages (from -r requirements.txt (line 25)) (3.1.6)\n",
            "Requirement already satisfied: jiter==0.10.0 in /usr/local/lib/python3.12/dist-packages (from -r requirements.txt (line 26)) (0.10.0)\n",
            "Requirement already satisfied: jsonpatch==1.33 in /usr/local/lib/python3.12/dist-packages (from -r requirements.txt (line 27)) (1.33)\n",
            "Requirement already satisfied: jsonpointer==3.0.0 in /usr/local/lib/python3.12/dist-packages (from -r requirements.txt (line 28)) (3.0.0)\n",
            "Requirement already satisfied: jsonschema==4.25.1 in /usr/local/lib/python3.12/dist-packages (from -r requirements.txt (line 29)) (4.25.1)\n",
            "Requirement already satisfied: jsonschema-specifications==2025.9.1 in /usr/local/lib/python3.12/dist-packages (from -r requirements.txt (line 30)) (2025.9.1)\n",
            "Requirement already satisfied: langchain==0.3.27 in /usr/local/lib/python3.12/dist-packages (from -r requirements.txt (line 31)) (0.3.27)\n",
            "Requirement already satisfied: langchain-anthropic==0.3.19 in /usr/local/lib/python3.12/dist-packages (from -r requirements.txt (line 32)) (0.3.19)\n",
            "Requirement already satisfied: langchain-community==0.3.29 in /usr/local/lib/python3.12/dist-packages (from -r requirements.txt (line 33)) (0.3.29)\n",
            "Requirement already satisfied: langchain-core==0.3.75 in /usr/local/lib/python3.12/dist-packages (from -r requirements.txt (line 34)) (0.3.75)\n",
            "Requirement already satisfied: langchain-litellm==0.2.2 in /usr/local/lib/python3.12/dist-packages (from -r requirements.txt (line 35)) (0.2.2)\n",
            "Requirement already satisfied: langchain-openai==0.3.32 in /usr/local/lib/python3.12/dist-packages (from -r requirements.txt (line 36)) (0.3.32)\n",
            "Requirement already satisfied: langchain-text-splitters==0.3.11 in /usr/local/lib/python3.12/dist-packages (from -r requirements.txt (line 37)) (0.3.11)\n",
            "Requirement already satisfied: langgraph==0.6.7 in /usr/local/lib/python3.12/dist-packages (from -r requirements.txt (line 38)) (0.6.7)\n",
            "Requirement already satisfied: langgraph-checkpoint==2.1.1 in /usr/local/lib/python3.12/dist-packages (from -r requirements.txt (line 39)) (2.1.1)\n",
            "Requirement already satisfied: langgraph-prebuilt==0.6.4 in /usr/local/lib/python3.12/dist-packages (from -r requirements.txt (line 40)) (0.6.4)\n",
            "Requirement already satisfied: langgraph-sdk==0.2.6 in /usr/local/lib/python3.12/dist-packages (from -r requirements.txt (line 41)) (0.2.6)\n",
            "Requirement already satisfied: langsmith==0.4.27 in /usr/local/lib/python3.12/dist-packages (from -r requirements.txt (line 42)) (0.4.27)\n",
            "Requirement already satisfied: litellm==1.76.3 in /usr/local/lib/python3.12/dist-packages (from -r requirements.txt (line 43)) (1.76.3)\n",
            "Requirement already satisfied: markupsafe==3.0.2 in /usr/local/lib/python3.12/dist-packages (from -r requirements.txt (line 44)) (3.0.2)\n",
            "Requirement already satisfied: marshmallow==3.26.1 in /usr/local/lib/python3.12/dist-packages (from -r requirements.txt (line 45)) (3.26.1)\n",
            "Requirement already satisfied: multidict==6.6.4 in /usr/local/lib/python3.12/dist-packages (from -r requirements.txt (line 46)) (6.6.4)\n",
            "Requirement already satisfied: mypy-extensions==1.1.0 in /usr/local/lib/python3.12/dist-packages (from -r requirements.txt (line 47)) (1.1.0)\n",
            "Requirement already satisfied: numpy==2.3.2 in /usr/local/lib/python3.12/dist-packages (from -r requirements.txt (line 48)) (2.3.2)\n",
            "Requirement already satisfied: openai==1.107.0 in /usr/local/lib/python3.12/dist-packages (from -r requirements.txt (line 49)) (1.107.0)\n",
            "Requirement already satisfied: orjson==3.11.3 in /usr/local/lib/python3.12/dist-packages (from -r requirements.txt (line 50)) (3.11.3)\n",
            "Requirement already satisfied: ormsgpack==1.10.0 in /usr/local/lib/python3.12/dist-packages (from -r requirements.txt (line 51)) (1.10.0)\n",
            "Requirement already satisfied: packaging==25.0 in /usr/local/lib/python3.12/dist-packages (from -r requirements.txt (line 52)) (25.0)\n",
            "Requirement already satisfied: propcache==0.3.2 in /usr/local/lib/python3.12/dist-packages (from -r requirements.txt (line 53)) (0.3.2)\n",
            "Requirement already satisfied: pydantic==2.11.7 in /usr/local/lib/python3.12/dist-packages (from -r requirements.txt (line 54)) (2.11.7)\n",
            "Requirement already satisfied: pydantic-core==2.33.2 in /usr/local/lib/python3.12/dist-packages (from -r requirements.txt (line 55)) (2.33.2)\n",
            "Requirement already satisfied: pydantic-settings==2.10.1 in /usr/local/lib/python3.12/dist-packages (from -r requirements.txt (line 56)) (2.10.1)\n",
            "Requirement already satisfied: python-dotenv==1.1.1 in /usr/local/lib/python3.12/dist-packages (from -r requirements.txt (line 57)) (1.1.1)\n",
            "Requirement already satisfied: pyyaml==6.0.2 in /usr/local/lib/python3.12/dist-packages (from -r requirements.txt (line 58)) (6.0.2)\n",
            "Requirement already satisfied: referencing==0.36.2 in /usr/local/lib/python3.12/dist-packages (from -r requirements.txt (line 59)) (0.36.2)\n",
            "Requirement already satisfied: regex==2025.9.1 in /usr/local/lib/python3.12/dist-packages (from -r requirements.txt (line 60)) (2025.9.1)\n",
            "Requirement already satisfied: requests==2.32.5 in /usr/local/lib/python3.12/dist-packages (from -r requirements.txt (line 61)) (2.32.5)\n",
            "Requirement already satisfied: requests-toolbelt==1.0.0 in /usr/local/lib/python3.12/dist-packages (from -r requirements.txt (line 62)) (1.0.0)\n",
            "Requirement already satisfied: rpds-py==0.27.1 in /usr/local/lib/python3.12/dist-packages (from -r requirements.txt (line 63)) (0.27.1)\n",
            "Requirement already satisfied: sniffio==1.3.1 in /usr/local/lib/python3.12/dist-packages (from -r requirements.txt (line 64)) (1.3.1)\n",
            "Requirement already satisfied: sqlalchemy==2.0.43 in /usr/local/lib/python3.12/dist-packages (from -r requirements.txt (line 65)) (2.0.43)\n",
            "Requirement already satisfied: tenacity==9.1.2 in /usr/local/lib/python3.12/dist-packages (from -r requirements.txt (line 66)) (9.1.2)\n",
            "Requirement already satisfied: tiktoken==0.11.0 in /usr/local/lib/python3.12/dist-packages (from -r requirements.txt (line 67)) (0.11.0)\n",
            "Requirement already satisfied: tokenizers==0.22.0 in /usr/local/lib/python3.12/dist-packages (from -r requirements.txt (line 68)) (0.22.0)\n",
            "Requirement already satisfied: tqdm==4.67.1 in /usr/local/lib/python3.12/dist-packages (from -r requirements.txt (line 69)) (4.67.1)\n",
            "Requirement already satisfied: typing-extensions==4.15.0 in /usr/local/lib/python3.12/dist-packages (from -r requirements.txt (line 70)) (4.15.0)\n",
            "Requirement already satisfied: typing-inspect==0.9.0 in /usr/local/lib/python3.12/dist-packages (from -r requirements.txt (line 71)) (0.9.0)\n",
            "Requirement already satisfied: typing-inspection==0.4.1 in /usr/local/lib/python3.12/dist-packages (from -r requirements.txt (line 72)) (0.4.1)\n",
            "Requirement already satisfied: urllib3==2.5.0 in /usr/local/lib/python3.12/dist-packages (from -r requirements.txt (line 73)) (2.5.0)\n",
            "Requirement already satisfied: xxhash==3.5.0 in /usr/local/lib/python3.12/dist-packages (from -r requirements.txt (line 74)) (3.5.0)\n",
            "Requirement already satisfied: yarl==1.20.1 in /usr/local/lib/python3.12/dist-packages (from -r requirements.txt (line 75)) (1.20.1)\n",
            "Requirement already satisfied: zipp==3.23.0 in /usr/local/lib/python3.12/dist-packages (from -r requirements.txt (line 76)) (3.23.0)\n",
            "Requirement already satisfied: zstandard==0.24.0 in /usr/local/lib/python3.12/dist-packages (from -r requirements.txt (line 77)) (0.24.0)\n",
            "Requirement already satisfied: greenlet>=1 in /usr/local/lib/python3.12/dist-packages (from sqlalchemy==2.0.43->-r requirements.txt (line 65)) (3.2.4)\n"
          ]
        }
      ]
    },
    {
      "cell_type": "markdown",
      "metadata": {
        "id": "14a1aa55"
      },
      "source": [
        "### API Key and URL Setup\n",
        "\n",
        "This cell imports the `litellm` and `openai` libraries, as well as `userdata` from `google.colab` to securely access secrets stored in the Colab environment. It then retrieves the `LITELLM_API_KEY`, `LITELLM_URL`, and `MODEL` from Colab's user data secrets, assigning them to variables for later use.\n",
        "\n",
        "**Explanation:**\n",
        "- `import litellm`: Imports the LiteLLM library, which provides a unified interface for various language models.\n",
        "- `from openai import OpenAI`: Imports the `OpenAI` class from the `openai` library. This is used to interact with models, even if they are served through LiteLLM, by mimicking the OpenAI API.\n",
        "- `from google.colab import userdata`: Imports the `userdata` module from `google.colab`, which allows secure access to secrets stored in the Colab environment.\n",
        "- `LITELLM_API_KEY = userdata.get('LITELLM_API_KEY')`: Retrieves the value of the secret named `LITELLM_API_KEY` from Colab's user data and assigns it to the variable `LITELLM_API_KEY`.\n",
        "- `LITELLM_URL = userdata.get('LITELLM_URL')`: Retrieves the value of the secret named `LITELLM_URL` and assigns it to the variable `LITELLM_URL`. This is the base URL of your LiteLLM proxy.\n",
        "- `MODEL = userdata.get('LITELLM_MODEL')`: Retrieves the value of the secret named `LITELLM_MODEL` and assigns it to the variable `MODEL`. This is the name of the specific model you want to use through LiteLLM.\n",
        "\n",
        "**Guidance:**\n",
        "- Ensure you have added your LiteLLM API key, LiteLLM URL, and the model name you are using as secrets in Colab's user data. You can access the secrets manager by clicking the \"🔑\" icon in the left sidebar."
      ]
    },
    {
      "cell_type": "code",
      "metadata": {
        "id": "f3cc9f18"
      },
      "source": [
        "import litellm\n",
        "from openai import OpenAI\n",
        "from google.colab import userdata\n",
        "\n",
        "LITELLM_API_KEY = userdata.get('LITELLM_API_KEY')\n",
        "LITELLM_URL = userdata.get('LITELLM_URL')\n",
        "MODEL = userdata.get('LITELLM_MODEL')"
      ],
      "execution_count": 50,
      "outputs": []
    },
    {
      "cell_type": "markdown",
      "metadata": {
        "id": "d63ac53c"
      },
      "source": [
        "### Initialize OpenAI Client\n",
        "\n",
        "This cell initializes an `OpenAI` client instance. It uses the `LITELLM_URL` as the `base_url` to point to the LiteLLM proxy and the `LITELLM_API_KEY` for authentication. This client will be used to interact with the language model through the LiteLLM proxy.\n",
        "\n",
        "**Explanation:**\n",
        "- `client = OpenAI(...)`: Creates an instance of the `OpenAI` client.\n",
        "- `base_url=LITELLM_URL`: Sets the base URL for the API requests to the LiteLLM proxy URL retrieved from secrets.\n",
        "- `api_key=LITELLM_API_KEY`: Provides the API key for authentication with the LiteLLM proxy, also retrieved from secrets.\n",
        "\n",
        "**Guidance:**\n",
        "- This client is configured to communicate with your LiteLLM instance, which in turn routes requests to the actual language model."
      ]
    },
    {
      "cell_type": "code",
      "metadata": {
        "id": "7d13ba7f"
      },
      "source": [
        "# Initialize client with your proxy URL\n",
        "client = OpenAI(\n",
        "    base_url=LITELLM_URL,  # Your proxy URL\n",
        "    api_key=LITELLM_API_KEY             # Your proxy API key\n",
        ")"
      ],
      "execution_count": 51,
      "outputs": []
    },
    {
      "cell_type": "markdown",
      "metadata": {
        "id": "212b2ad6"
      },
      "source": [
        "### Generate Non-Streaming Response\n",
        "\n",
        "This cell demonstrates how to generate a non-streaming response from the language model using the initialized `client`. It sends a prompt asking for a two-sentence bedtime story about a unicorn and stores the entire response in the `response` variable."
      ]
    },
    {
      "cell_type": "code",
      "metadata": {
        "id": "e1f94876"
      },
      "source": [
        "# non streaming response\n",
        "response = client.responses.create(\n",
        "    model=MODEL,\n",
        "    input=\"Tell me a two sentence bedtime story about a unicorn.\",\n",
        ")"
      ],
      "execution_count": 52,
      "outputs": []
    },
    {
      "cell_type": "code",
      "source": [
        "response.output[0].content[0].text"
      ],
      "metadata": {
        "colab": {
          "base_uri": "https://localhost:8080/",
          "height": 87
        },
        "id": "HKA0Exg9Y05k",
        "outputId": "6dd7d1d8-3638-456e-e8d5-ef6d8039e73b"
      },
      "execution_count": 53,
      "outputs": [
        {
          "output_type": "execute_result",
          "data": {
            "text/plain": [
              "'Luna the unicorn pranced through the moonlit meadow, her silver horn glowing softly as she sprinkled stardust over the sleeping forest animals to give them sweet dreams. As the first light of dawn approached, she curled up beneath her favorite willow tree and drifted off to sleep, dreaming of rainbows and cotton candy clouds.'"
            ],
            "application/vnd.google.colaboratory.intrinsic+json": {
              "type": "string"
            }
          },
          "metadata": {},
          "execution_count": 53
        }
      ]
    },
    {
      "cell_type": "markdown",
      "metadata": {
        "id": "05145a60"
      },
      "source": [
        "### Display Non-Streaming Response\n",
        "\n",
        "This cell displays the complete `response` object obtained from the previous non-streaming call. This allows you to see the full structure of the response, including metadata, usage information, and the generated content."
      ]
    },
    {
      "cell_type": "code",
      "metadata": {
        "id": "54b66c74",
        "colab": {
          "base_uri": "https://localhost:8080/"
        },
        "outputId": "e1c519ce-5d3a-4f0e-8e1e-e4035c0ac91e"
      },
      "source": [
        "response"
      ],
      "execution_count": 54,
      "outputs": [
        {
          "output_type": "execute_result",
          "data": {
            "text/plain": [
              "Response(id='resp_bGl0ZWxsbTpjdXN0b21fbGxtX3Byb3ZpZGVyOmJlZHJvY2s7bW9kZWxfaWQ6ZTJhZmM1ODQ4MGMzYTAxZWJmNjI4ZWIxYzgyM2I0M2Y5ODY1ZDY1NDU0ZjZhN2U5ZTNkNzhlMTVmY2ZhNjEyZDtyZXNwb25zZV9pZDpjaGF0Y21wbC0zMTg3MDY1Zi01NmU4LTRhZjAtYTA3My02ZWYzZmEwMjY1MjQ=', created_at=1757673304.0, error=None, incomplete_details=None, instructions=None, metadata={}, model='us.anthropic.claude-sonnet-4-20250514-v1:0', object='chat.completion', output=[ResponseOutputMessage(id='chatcmpl-3187065f-56e8-4af0-a073-6ef3fa026524', content=[ResponseOutputText(annotations=[], text='Luna the unicorn pranced through the moonlit meadow, her silver horn glowing softly as she sprinkled stardust over the sleeping forest animals to give them sweet dreams. As the first light of dawn approached, she curled up beneath her favorite willow tree and drifted off to sleep, dreaming of rainbows and cotton candy clouds.', type='output_text', logprobs=None)], role='assistant', status='stop', type='message')], parallel_tool_calls=False, temperature=0.0, tool_choice='auto', tools=[], top_p=None, background=None, conversation=None, max_output_tokens=None, max_tool_calls=None, previous_response_id=None, prompt=None, prompt_cache_key=None, reasoning=Reasoning(effort=None, generate_summary=None, summary=None), safety_identifier=None, service_tier=None, status='completed', text=ResponseTextConfig(format=None, verbosity=None), top_logprobs=None, truncation=None, usage=ResponseUsage(input_tokens=20, input_tokens_details=None, output_tokens=79, output_tokens_details=None, total_tokens=99), user=None, store=None)"
            ]
          },
          "metadata": {},
          "execution_count": 54
        }
      ]
    },
    {
      "cell_type": "markdown",
      "metadata": {
        "id": "e4a9716e"
      },
      "source": [
        "### Generate Streaming Response\n",
        "\n",
        "This cell is similar to the non-streaming example but configures the client for streaming responses. It sends the same prompt and prints the response as it is generated, which can be useful for larger outputs or interactive applications."
      ]
    },
    {
      "cell_type": "code",
      "metadata": {
        "id": "38a09c42",
        "colab": {
          "base_uri": "https://localhost:8080/"
        },
        "outputId": "82d5a81a-d9d3-4c8d-91f2-27110371b085"
      },
      "source": [
        "# Streaming response\n",
        "response = client.responses.create(\n",
        "    model=MODEL,\n",
        "    input=\"Tell me a four sentence bedtime poem about a unicorn from klang valley.\",\n",
        "    stream=True,\n",
        ")\n",
        "\n",
        "full_text = []\n",
        "\n",
        "for event in response:\n",
        "    # Check if the event is a text delta\n",
        "    if event.type == \"response.output_text.delta\":\n",
        "        chunk = event.delta\n",
        "        print(chunk, end=\"\", flush=True)   # stream piece by piece\n",
        "        full_text.append(chunk)\n",
        "    elif event.type == \"response.completed\":\n",
        "        print(\"\\n\\n[sstreameeerrrrred successfully!!!]\")\n",
        "    elif event.type == \"response.error\":\n",
        "        print(f\"\\n[error] {event.error}\")\n",
        "\n",
        "final_text = \"\".join(full_text)\n",
        "print(\"\\nFinal text:\", final_text)\n"
      ],
      "execution_count": 55,
      "outputs": [
        {
          "output_type": "stream",
          "name": "stdout",
          "text": [
            "Here's a gentle bedtime poem about a unicorn from Klang Valley:\n",
            "\n",
            "In Klang Valley where the city lights gleam bright,\n",
            "A gentle unicorn roams through the peaceful night.\n",
            "With silver horn that sparkles like the stars above,\n",
            "She spreads sweet dreams and fills hearts with love.\n",
            "\n",
            "[sstreameeerrrrred successfully!!!]\n",
            "\n",
            "Final text: Here's a gentle bedtime poem about a unicorn from Klang Valley:\n",
            "\n",
            "In Klang Valley where the city lights gleam bright,\n",
            "A gentle unicorn roams through the peaceful night.\n",
            "With silver horn that sparkles like the stars above,\n",
            "She spreads sweet dreams and fills hearts with love.\n"
          ]
        }
      ]
    },
    {
      "cell_type": "markdown",
      "metadata": {
        "id": "488ef7eb"
      },
      "source": [
        "### Import Langgraph Components\n",
        "\n",
        "This cell imports necessary components from the `langgraph` library, specifically `create_react_agent` for building reactive agents. It also imports `OpenAI` and `load_dotenv` (although `load_dotenv` is not strictly necessary when using Colab secrets) and `ChatLiteLLM` from `langchain_litellm` for integrating LiteLLM with Langchain, and `InMemorySaver` for managing conversation history."
      ]
    },
    {
      "cell_type": "code",
      "metadata": {
        "id": "be519944"
      },
      "source": [
        "from langgraph.prebuilt import create_react_agent\n",
        "import os\n",
        "from openai import OpenAI\n",
        "from dotenv import load_dotenv\n",
        "from langchain_litellm import ChatLiteLLM\n",
        "from langgraph.checkpoint.memory import InMemorySaver"
      ],
      "execution_count": 56,
      "outputs": []
    },
    {
      "cell_type": "markdown",
      "metadata": {
        "id": "19e2758b"
      },
      "source": [
        "### Define Langchain Model with LiteLLM\n",
        "\n",
        "This cell defines the language model to be used within the Langchain framework, leveraging the LiteLLM integration. It initializes `ChatLiteLLM` with the previously retrieved `MODEL`, `LITELLM_URL`, and `LITELLM_API_KEY`. It also sets `custom_llm_provider` to \"openai\" to ensure compatibility with Langchain's OpenAI integration, enables streaming, and sets the temperature to 0 for deterministic output."
      ]
    },
    {
      "cell_type": "code",
      "metadata": {
        "id": "8e31a1e5"
      },
      "source": [
        "# 1. Define the model\n",
        "model = ChatLiteLLM(\n",
        "    model=MODEL, # configured in LiteLLM\n",
        "    api_base=LITELLM_URL, # URL to the LiteLLM server\n",
        "    api_key=LITELLM_API_KEY, # API key for LiteLLM\n",
        "    # organization=os.getenv(\"ORG\"), # organization configured in LiteLLM\n",
        "    custom_llm_provider=\"openai\", # mimic OpenAI API\n",
        "    temperature=0.0, # temperature for the model\n",
        "    streaming=True, # enable streaming\n",
        "    verbose=True, # enable verbose logging\n",
        ")"
      ],
      "execution_count": 57,
      "outputs": []
    },
    {
      "cell_type": "markdown",
      "metadata": {
        "id": "54d6d930"
      },
      "source": [
        "### Define Checkpointer and Tool\n",
        "\n",
        "This cell sets up an `InMemorySaver` as a checkpointer to store the conversation history in memory. It also defines a simple Python function `get_weather` that acts as a tool for the agent. This tool takes a city name as input and returns a hardcoded string indicating sunny weather. In a real application, this would typically involve calling an external weather API."
      ]
    },
    {
      "cell_type": "code",
      "metadata": {
        "id": "a7aa91aa"
      },
      "source": [
        "checkpointer = InMemorySaver()\n",
        "\n",
        "def get_weather(city: str) -> str:\n",
        "    \"\"\"Get weather for a given city.\"\"\"\n",
        "    print(f\"Getting weather for city: {city}\")\n",
        "    return f\"It's always sunny in {city}!\"\n",
        "\n",
        "def scan_port(host: str, port: int) -> str:\n",
        "    \"\"\"Dummy port scanner.\"\"\"\n",
        "    print(f\"Scanning port {port} on host {host}\")\n",
        "    return f\"Port {port} on {host} appears secure.\"\n",
        "\n",
        "def lookup_cve(cve_id: str) -> str:\n",
        "    \"\"\"Dummy CVE lookup.\"\"\"\n",
        "    print(f\"Looking up {cve_id}\")\n",
        "    return f\"{cve_id} has no known vulnerabilities.\"\n"
      ],
      "execution_count": 58,
      "outputs": []
    },
    {
      "cell_type": "markdown",
      "metadata": {
        "id": "5dcc2447"
      },
      "source": [
        "### Create React Agent\n",
        "\n",
        "This cell creates a \"React\" agent using `create_react_agent`. This agent is designed to react to user input and decide whether to use an available tool (like the `get_weather`, `scan_port`, or `lookup_cve` functions) or directly respond. It's initialized with the `model`, the list of available `tools`, a system `prompt`, and the `checkpointer` for managing conversation state.\n",
        "\n",
        "**Explanation:**\n",
        "- `agent = create_react_agent(...)`: Creates an instance of a React agent.\n",
        "- `model=model`: Specifies the language model (`ChatLiteLLM` instance) that the agent will use for reasoning and generating responses.\n",
        "- `tools=[scan_port, lookup_cve, get_weather]`: Provides a list of the available tools that the agent can call.\n",
        "- `prompt=\"You are a security research assistant. Use the tools to investigate potential vulnerabilities.\"`: Sets the system prompt for the agent, guiding its behavior and role.\n",
        "- `checkpointer=checkpointer`: Associates the `InMemorySaver` checkpointer with the agent to manage conversation history.\n",
        "\n",
        "**Guidance:**\n",
        "- The React agent uses the language model to determine the best course of action based on the user's input and the available tools. It can decide to call a tool or respond directly."
      ]
    },
    {
      "cell_type": "code",
      "metadata": {
        "id": "2ab43bf6"
      },
      "source": [
        "agent = create_react_agent(\n",
        "    model=model,\n",
        "    tools=[scan_port, lookup_cve, get_weather],\n",
        "    prompt=\"You are a security research assistant. Use the tools to investigate potential vulnerabilities.\",\n",
        "    checkpointer=checkpointer\n",
        ")\n"
      ],
      "execution_count": 59,
      "outputs": []
    },
    {
      "cell_type": "markdown",
      "metadata": {
        "id": "ea82afdd"
      },
      "source": [
        "### Define and use Thread ID\n",
        "\n",
        "This cell defines a dictionary `thread_id` that will be used to identify a specific conversation thread. This is important for the checkpointer to store and retrieve the correct conversation history."
      ]
    },
    {
      "cell_type": "code",
      "metadata": {
        "id": "cf42aac7"
      },
      "source": [
        "thread_id = {\"configurable\": {\"thread_id\": \"thread-1\"}}"
      ],
      "execution_count": 60,
      "outputs": []
    },
    {
      "cell_type": "code",
      "source": [
        "response = agent.invoke(\n",
        "    {\"messages\": [{\"role\": \"user\", \"content\": \"hi! i am from kuala lumpur\"}]},\n",
        "    {\"configurable\": {\"thread_id\": \"1\"}},\n",
        ")"
      ],
      "metadata": {
        "id": "BN3ZpJ0Afm8D"
      },
      "execution_count": 62,
      "outputs": []
    },
    {
      "cell_type": "code",
      "source": [
        "response = agent.invoke(\n",
        "    {\"messages\": [{\"role\": \"user\", \"content\": \"What is the weather in my city?\"}]},\n",
        "    {\"configurable\": {\"thread_id\": \"1\"}},\n",
        ")"
      ],
      "metadata": {
        "colab": {
          "base_uri": "https://localhost:8080/"
        },
        "id": "U0Z8Z4rQf0_j",
        "outputId": "76e6460e-a24b-4cce-8726-40b7deedc3eb"
      },
      "execution_count": 63,
      "outputs": [
        {
          "output_type": "stream",
          "name": "stdout",
          "text": [
            "Getting weather for city: Kuala Lumpur\n"
          ]
        }
      ]
    },
    {
      "cell_type": "code",
      "source": [
        "response['messages'][-1].content"
      ],
      "metadata": {
        "colab": {
          "base_uri": "https://localhost:8080/",
          "height": 70
        },
        "id": "KugDCnuKf6oM",
        "outputId": "553de31f-6e77-448b-8890-f757b890449f"
      },
      "execution_count": 67,
      "outputs": [
        {
          "output_type": "execute_result",
          "data": {
            "text/plain": [
              "'The weather in Kuala Lumpur is showing as sunny! Though I should mention this appears to be a simplified weather response. For more detailed and current weather information, you might want to check a dedicated weather service or app.\\n\\nIs there anything security-related I can help you with today?'"
            ],
            "application/vnd.google.colaboratory.intrinsic+json": {
              "type": "string"
            }
          },
          "metadata": {},
          "execution_count": 67
        }
      ]
    },
    {
      "cell_type": "markdown",
      "metadata": {
        "id": "3270dc25"
      },
      "source": [
        "### Invoke Agent to Scan Port\n"
      ]
    },
    {
      "cell_type": "code",
      "metadata": {
        "id": "d21252f6",
        "colab": {
          "base_uri": "https://localhost:8080/"
        },
        "outputId": "7360f906-c1a3-45a1-f9aa-45bb2553688f"
      },
      "source": [
        "response = agent.invoke(\n",
        "    {\"messages\": [{\"role\": \"user\", \"content\": \"Scan port 80 on example.com\"}]},\n",
        "    {\"configurable\": {\"thread_id\": \"1\"}},\n",
        ")\n"
      ],
      "execution_count": 61,
      "outputs": [
        {
          "output_type": "stream",
          "name": "stdout",
          "text": [
            "Scanning port 80 on host example.com\n"
          ]
        }
      ]
    },
    {
      "cell_type": "markdown",
      "metadata": {
        "id": "d04192db"
      },
      "source": [
        "### Print Port Scan Result\n"
      ]
    },
    {
      "cell_type": "code",
      "metadata": {
        "id": "953e772b",
        "colab": {
          "base_uri": "https://localhost:8080/"
        },
        "outputId": "e577db26-4f51-4587-dfe1-d251dca6b871"
      },
      "source": [
        "print(\"Port scan result -> \", response[\"messages\"][-1].content)\n"
      ],
      "execution_count": 23,
      "outputs": [
        {
          "output_type": "stream",
          "name": "stdout",
          "text": [
            "Port scan result ->  The port scan results show that port 80 on example.com appears secure. This indicates that the HTTP service on the standard web port is running and doesn't show any obvious vulnerabilities from this basic scan.\n"
          ]
        }
      ]
    },
    {
      "cell_type": "markdown",
      "metadata": {
        "id": "33b82865"
      },
      "source": [
        "### Invoke Agent to Lookup CVE\n"
      ]
    },
    {
      "cell_type": "code",
      "metadata": {
        "id": "563e4cf0",
        "colab": {
          "base_uri": "https://localhost:8080/"
        },
        "outputId": "dfa601f3-87e6-48f6-c489-b7fd3b9b6515"
      },
      "source": [
        "response = agent.invoke(\n",
        "    {\"messages\": [{\"role\": \"user\", \"content\": \"Look up CVE-2024-1234\"}]},\n",
        "    {\"configurable\": {\"thread_id\": \"1\"}},\n",
        ")\n"
      ],
      "execution_count": 24,
      "outputs": [
        {
          "output_type": "stream",
          "name": "stdout",
          "text": [
            "Looking up CVE-2024-1234\n"
          ]
        }
      ]
    },
    {
      "cell_type": "markdown",
      "metadata": {
        "id": "1f48e695"
      },
      "source": [
        "### Print CVE Lookup Result\n"
      ]
    },
    {
      "cell_type": "code",
      "metadata": {
        "id": "c952c2e0",
        "colab": {
          "base_uri": "https://localhost:8080/"
        },
        "outputId": "3d8878fa-c3b8-4348-b6ea-668933accf4d"
      },
      "source": [
        "print(\"CVE lookup result -> \", response[\"messages\"][-1].content)\n"
      ],
      "execution_count": 25,
      "outputs": [
        {
          "output_type": "stream",
          "name": "stdout",
          "text": [
            "CVE lookup result ->  The CVE lookup for CVE-2024-1234 indicates that there are no known vulnerabilities associated with this identifier. This could mean either:\n",
            "\n",
            "1. The CVE ID doesn't exist in the database\n",
            "2. It's a placeholder/example CVE ID\n",
            "3. The vulnerability hasn't been documented yet\n",
            "\n",
            "If you're looking for information about a specific vulnerability, please double-check the CVE identifier or provide more details about the security issue you're investigating.\n"
          ]
        }
      ]
    },
    {
      "cell_type": "code",
      "source": [
        "from langchain_core.messages import AnyMessage\n",
        "from typing_extensions import TypedDict\n",
        "\n",
        "class State(TypedDict):\n",
        "    messages: list[AnyMessage]\n",
        "    extra_field: int"
      ],
      "metadata": {
        "id": "yc2ZJamdVfkL"
      },
      "execution_count": 30,
      "outputs": []
    },
    {
      "cell_type": "code",
      "source": [
        "from langchain_core.messages import AIMessage\n",
        "\n",
        "def node(state: State):\n",
        "    messages = state[\"messages\"]\n",
        "    new_message = AIMessage(\"Hello!\")\n",
        "    return {\"messages\": messages + [new_message], \"extra_field\": 10}"
      ],
      "metadata": {
        "id": "4jkyMrcGbsSU"
      },
      "execution_count": 31,
      "outputs": []
    },
    {
      "cell_type": "code",
      "source": [
        "from langgraph.graph import StateGraph\n",
        "\n",
        "builder = StateGraph(State)\n",
        "builder.add_node(node)\n",
        "builder.set_entry_point(\"node\")\n",
        "graph = builder.compile()"
      ],
      "metadata": {
        "id": "Qo0CI4V1e3od"
      },
      "execution_count": 32,
      "outputs": []
    },
    {
      "cell_type": "code",
      "source": [
        "from IPython.display import Image, display\n",
        "\n",
        "display(Image(graph.get_graph().draw_mermaid_png()))"
      ],
      "metadata": {
        "colab": {
          "base_uri": "https://localhost:8080/",
          "height": 251
        },
        "id": "d_E9sr8JcQqA",
        "outputId": "971101e3-b3f3-4c62-c9a8-7466e6dd7c73"
      },
      "execution_count": 44,
      "outputs": [
        {
          "output_type": "display_data",
          "data": {
            "image/png": "[encoded data removed]",
            "text/plain": [
              "<IPython.core.display.Image object>"
            ]
          },
          "metadata": {}
        }
      ]
    },
    {
      "cell_type": "markdown",
      "source": [
        "#Advanced Security Agent with Mock Tools\n",
        "\n",
        "### Import Libraries and Define Helpers\n",
        "\n",
        "This cell imports necessary libraries for the advanced security agent, including modules for regular expressions (`re`), IP address manipulation (`ipaddress`), date and time handling (`datetime`), CSV processing (`csv`), JSON handling (`json`), and UUID generation (`uuid`). It also defines helper functions for classifying Indicators of Compromise (IOCs), getting the current time in ISO format, and calculating the number of days between two dates. Policy lists (allowlist and blocklist) are initialized, and a helper to load these lists from files is defined.\n",
        "\n",
        "**Explanation:**\n",
        "- `import os, re, ipaddress, datetime, csv, json, uuid`: Imports various standard Python libraries.\n",
        "- `from typing import List, Dict, Any, Optional, Iterable`: Imports type hints for better code readability and maintainability.\n",
        "- `from dotenv import load_dotenv`: Imported but not strictly necessary due to Colab secrets.\n",
        "- `from langgraph.prebuilt import create_react_agent`: Imports the function to create the React agent.\n",
        "- `from langchain_litellm import ChatLiteLLM`: Imports the LiteLLM integration for Langchain.\n",
        "- `from langchain_core.tools import tool`: Imports the `@tool` decorator to define tools for the agent.\n",
        "- `from langgraph.config import get_stream_writer`: Imports a function related to streaming output in Langgraph.\n",
        "- `IOC_REGEX`: A dictionary containing regular expressions for different types of Indicators of Compromise (IP, domain, URL, SHA256).\n",
        "- `classify_ioc(x: str) -> str`: A helper function that takes a string and uses the `IOC_REGEX` to determine its type (ip, domain, url, sha256, or unknown).\n",
        "- `now_iso() -> str`: A helper function to get the current UTC time in ISO 8601 format.\n",
        "- `days_between(d1: str, d2: Optional[str] = None) -> Optional[int]`: Calculates the number of days between two ISO formatted date strings.\n",
        "- `ALLOWLIST = set()` and `BLOCKLIST = set()`: Initializes empty sets to store allowed and blocklisted indicators.\n",
        "- `_load_list_from_file(path: str) -> Iterable[str]`: A helper function to load indicators from a file, one per line, ignoring comments and empty lines.\n",
        "- The code then attempts to load allowlist and blocklist entries from files specified by environment variables (which would not be used in this Colab setup unless those environment variables were set).\n",
        "\n",
        "**Guidance:**\n",
        "- These helper functions and data structures provide foundational capabilities for the security agent to process and analyze indicators.\n",
        "- The `IOC_REGEX` is a simple way to categorize input strings, but real-world IOC classification can be more complex."
      ],
      "metadata": {
        "id": "nF5dR9rpbjgY"
      }
    },
    {
      "cell_type": "code",
      "source": [
        "import os, re, ipaddress, datetime, csv, json, uuid\n",
        "from typing import List, Dict, Any, Optional, Iterable\n",
        "\n",
        "from dotenv import load_dotenv\n",
        "from langgraph.prebuilt import create_react_agent\n",
        "from langchain_litellm import ChatLiteLLM\n",
        "from langchain_core.tools import tool\n",
        "from langgraph.config import get_stream_writer"
      ],
      "metadata": {
        "id": "Ffmdyd23fD6M"
      },
      "execution_count": 43,
      "outputs": []
    },
    {
      "cell_type": "code",
      "source": [
        "# ── Helpers ───────────────────────────────────────────────────────────────────\n",
        "IOC_REGEX = {\n",
        "    \"ip\": r\"\\b(?:(?:25[0-5]|2[0-4]\\d|[01]?\\d?\\d)(?:\\.(?!$)|$)){4}\\b\",\n",
        "    \"domain\": r\"\\b(?=.{1,253}\\b)(?!-)(?:[a-z0-9-]{1,63}\\.)+[a-z]{2,63}\\b\",\n",
        "    \"url\": r\"\\bhttps?://[^\\s<>\\\"']+\\b\",\n",
        "    \"sha256\": r\"\\b[a-fA-F0-9]{64}\\b\",\n",
        "}\n",
        "\n",
        "def classify_ioc(x: str) -> str:\n",
        "    for k, rgx in IOC_REGEX.items():\n",
        "        if re.search(rgx, x, flags=re.I):\n",
        "            return k\n",
        "    return \"unknown\"\n",
        "\n",
        "def now_iso() -> str:\n",
        "    return datetime.datetime.utcnow().replace(microsecond=0).isoformat() + \"Z\"\n",
        "\n",
        "def days_between(d1: str, d2: Optional[str] = None) -> Optional[int]:\n",
        "    try:\n",
        "        x = datetime.datetime.fromisoformat(d1.replace(\"Z\", \"\"))\n",
        "        y = datetime.datetime.fromisoformat((d2 or now_iso()).replace(\"Z\", \"\"))\n",
        "        return (y - x).days\n",
        "    except Exception:\n",
        "        return None\n",
        "\n",
        "# ── Policy lists (allowlist/blocklist) ────────────────────────────────────────\n",
        "ALLOWLIST = set()\n",
        "BLOCKLIST = set()\n",
        "\n",
        "def _load_list_from_file(path: str) -> Iterable[str]:\n",
        "    if not path or not os.path.exists(path):\n",
        "        return []\n",
        "    with open(path, \"r\", encoding=\"utf-8\") as f:\n",
        "        for line in f:\n",
        "            s = line.strip()\n",
        "            if s and not s.startswith(\"#\"):\n",
        "                yield s\n",
        "\n",
        "# Load from env-provided files if you want (optional)\n",
        "ALLOWLIST.update(_load_list_from_file(os.getenv(\"IOC_ALLOWLIST_FILE\", \"\")))\n",
        "BLOCKLIST.update(_load_list_from_file(os.getenv(\"IOC_BLOCKLIST_FILE\", \"\")))\n",
        "\n"
      ],
      "metadata": {
        "id": "aIJQ0Tv7byx_"
      },
      "execution_count": null,
      "outputs": []
    },
    {
      "cell_type": "markdown",
      "source": [
        "### Define Security Tools\n",
        "\n",
        "This cell defines a suite of tools that the advanced security agent can use. These tools are designed to perform actions relevant to security analysis, such as normalizing IOCs, performing WHOIS lookups, getting GeoIP information, checking OTX reputation, submitting URLs to urlscan.io, checking against policy lists, fusing findings into a verdict, and exporting results to CSV and STIX 2.1 formats. Note that many of these tools are implemented as mocks, returning hardcoded or simplified results.\n",
        "\n",
        "**Explanation:**\n",
        "- `@tool`: The decorator is used before each function to register it as a tool.\n",
        "- `normalize_iocs(iocs: List[str]) -> Dict[str, List[str]]`: Cleans, normalizes, and deduplicates a list of input IOC strings, returning them categorized by type.\n",
        "- `whois_lookup(domain: str) -> Dict[str, Any]`: Performs a mock WHOIS lookup for a given domain.\n",
        "- `geoip(ip: str) -> Dict[str, Any]`: Performs a mock GeoIP lookup for an IPv4 address, including a bogon check.\n",
        "- `otx_reputation(ioc: str) -> Dict[str, Any]`: Performs a mock AlienVault OTX reputation check for an IOC.\n",
        "- `urlscan_submit(url: str) -> Dict[str, Any]`: Submits a URL to urlscan.io (mock implementation), returning mock scan results including malicious signals.\n",
        "- `policy_check(ioc: str) -> Dict[str, Any]`: Checks an IOC against the hardcoded `ALLOWLIST` and `BLOCKLIST`.\n",
        "- `MITRE_MAP`: A dictionary mapping malicious signals to MITRE ATT&CK techniques.\n",
        "- `map_signals_to_mitre(signals: List[str]) -> List[Dict[str, str]]`: Maps a list of signals to corresponding MITRE techniques.\n",
        "- `verdict_fuser(findings: Dict[str, Any]) -> Dict[str, Any]`: Takes findings from other tools and fuses them into a final verdict with a label (Malicious, Suspicious, Benign), score (0-100), confidence (low, medium, high), evidence, policy flags, and MITRE tags. This uses a simple heuristic for scoring and confidence.\n",
        "- `export_csv(records: List[Dict[str, Any]], path: str = \"triage_results.csv\") -> Dict[str, Any]`: Exports a list of triage records to a CSV file.\n",
        "- `_stix_now()` and `_stix_id(obj_type: str)`: Helper functions for generating STIX 2.1 timestamps and IDs.\n",
        "- `export_stix2(records: List[Dict[str, Any]], path: str = \"triage_results_stix2.json\") -> Dict[str, Any]`: Exports a list of triage records to a minimal STIX 2.1 Bundle containing indicator SDOs.\n",
        "- `batch_from_csv(path: str, column: str = \"indicator\") -> Dict[str, Any]`: Reads indicators from a specified column in a CSV file.\n",
        "\n",
        "**Guidance:**\n",
        "- These tools represent the capabilities of the security agent. In a real-world scenario, these mock implementations would be replaced with actual API calls to security intelligence platforms and tools.\n",
        "- The `verdict_fuser` demonstrates how to combine information from multiple sources to arrive at a conclusion."
      ],
      "metadata": {
        "id": "fLFybxz1eQdg"
      }
    },
    {
      "cell_type": "code",
      "source": [
        "# ── Tools (mocks; swap with real APIs later) ─────────────────────────────────\n",
        "@tool\n",
        "def normalize_iocs(iocs: List[str]) -> Dict[str, List[str]]:\n",
        "    \"\"\"Clean, normalize, deduplicate input IOCs. Return dict by type.\"\"\"\n",
        "    cleaned = [i.strip().strip(\"[](),;\\\"'\") for i in iocs if i and isinstance(i, str)]\n",
        "    dedup = sorted(set(cleaned), key=str.lower)\n",
        "    out: Dict[str, List[str]] = {\"ip\": [], \"domain\": [], \"url\": [], \"sha256\": [], \"unknown\": []}\n",
        "    for item in dedup:\n",
        "        out[classify_ioc(item)].append(item)\n",
        "    return out\n",
        "\n",
        "@tool\n",
        "def whois_lookup(domain: str) -> Dict[str, Any]:\n",
        "    \"\"\"WHOIS for a domain (mock if no API).\"\"\"\n",
        "    if not re.search(IOC_REGEX[\"domain\"], domain, re.I):\n",
        "        return {\"error\": \"invalid domain\"}\n",
        "    # TODO: replace with real WHOIS API if available\n",
        "    created = \"2025-07-12\"\n",
        "    return {\n",
        "        \"domain\": domain,\n",
        "        \"created\": created,\n",
        "        \"registrar\": \"NameCheap\",\n",
        "        \"registrant_country\": \"PA\",\n",
        "        \"age_days\": days_between(created) or 60,\n",
        "        \"disposable_like\": False,\n",
        "        \"source\": \"mock\",\n",
        "        \"ts\": now_iso(),\n",
        "    }\n",
        "\n",
        "@tool\n",
        "def geoip(ip: str) -> Dict[str, Any]:\n",
        "    \"\"\"GeoIP + bogon check for an IPv4.\"\"\"\n",
        "    try:\n",
        "        obj = ipaddress.ip_address(ip)\n",
        "        if obj.is_private or obj.is_loopback or obj.is_reserved:\n",
        "            return {\"ip\": ip, \"bogon\": True, \"country\": None, \"asn\": None, \"ts\": now_iso()}\n",
        "    except Exception:\n",
        "        return {\"error\": \"invalid ip\"}\n",
        "    # TODO: replace with real GeoIP\n",
        "    return {\"ip\": ip, \"bogon\": False, \"country\": \"US\", \"asn\": 13335, \"org\": \"Cloudflare\", \"ts\": now_iso(), \"source\": \"mock\"}\n",
        "\n",
        "@tool\n",
        "def otx_reputation(ioc: str) -> Dict[str, Any]:\n",
        "    \"\"\"AlienVault OTX reputation (mock if no API).\"\"\"\n",
        "    typ = classify_ioc(ioc)\n",
        "    api_key = os.getenv(\"OTX_API_KEY\")\n",
        "    if not api_key:\n",
        "        score = 70 if typ in (\"domain\",\"url\") and any(k in ioc.lower() for k in [\"login\",\"update\",\"verify\",\"secure\"]) else 10\n",
        "        return {\"ioc\": ioc, \"type\": typ, \"pulses\": score // 35, \"score\": score, \"tags\": [\"phishing\"] if score >= 60 else [], \"source\": \"mock\", \"ts\": now_iso()}\n",
        "    # TODO: real OTX call\n",
        "    return {\"ioc\": ioc, \"type\": typ, \"pulses\": 0, \"score\": 0, \"tags\": [], \"source\": \"todo\", \"ts\": now_iso()}\n",
        "\n",
        "@tool\n",
        "def urlscan_submit(url: str) -> Dict[str, Any]:\n",
        "    \"\"\"Submit URL to urlscan.io (mock if no API).\"\"\"\n",
        "    if not re.search(IOC_REGEX[\"url\"], url, re.I):\n",
        "        return {\"error\": \"invalid url\"}\n",
        "    key = os.getenv(\"URLSCAN_API_KEY\")\n",
        "    if not key:\n",
        "        # mock result indicates credential lure on a fresh domain\n",
        "        return {\n",
        "            \"url\": url,\n",
        "            \"scan_id\": \"mock-scan-123\",\n",
        "            \"final_url\": \"https://secure-login-example.com/\",\n",
        "            \"malicious_signals\": [\"fresh_domain\", \"credential_bait\"],\n",
        "            \"screenshot\": None,\n",
        "            \"domain_age_days\": 10,\n",
        "            \"task_report_url\": \"https://urlscan.io/result/mock-scan-123/\",\n",
        "            \"source\": \"mock\",\n",
        "            \"ts\": now_iso(),\n",
        "        }\n",
        "    # TODO: real submission + polling\n",
        "    return {\"url\": url, \"scan_id\": \"todo\", \"final_url\": None, \"malicious_signals\": [], \"source\": \"todo\", \"ts\": now_iso()}\n",
        "\n",
        "# ── Policy check tool ─────────────────────────────────────────────────────────\n",
        "@tool\n",
        "def policy_check(ioc: str) -> Dict[str, Any]:\n",
        "    \"\"\"Check IOC against organization allowlist/blocklist.\"\"\"\n",
        "    if ioc in BLOCKLIST:\n",
        "        return {\"ioc\": ioc, \"policy\": \"blocklisted\"}\n",
        "    if ioc in ALLOWLIST:\n",
        "        return {\"ioc\": ioc, \"policy\": \"allowlisted\"}\n",
        "    return {\"ioc\": ioc, \"policy\": \"none\"}\n",
        "\n",
        "# ── MITRE ATT&CK tagging (simple mapping) ─────────────────────────────────────\n",
        "MITRE_MAP = {\n",
        "    \"credential_bait\": {\"technique\": \"T1566.002\", \"name\": \"Phishing: Spearphishing Link\"},\n",
        "    \"fresh_domain\": {\"technique\": \"T1583.001\", \"name\": \"Acquire Infrastructure: Domains\"},\n",
        "    \"public_ip_scanning\": {\"technique\": \"T1595\", \"name\": \"Active Scanning\"},\n",
        "}\n",
        "\n",
        "def map_signals_to_mitre(signals: List[str]) -> List[Dict[str, str]]:\n",
        "    out = []\n",
        "    for s in signals:\n",
        "        if s in MITRE_MAP:\n",
        "            out.append(MITRE_MAP[s])\n",
        "    return out\n",
        "\n",
        "# ── Verdict fusion with confidence & evidence ─────────────────────────────────\n",
        "@tool\n",
        "def verdict_fuser(findings: Dict[str, Any]) -> Dict[str, Any]:\n",
        "    \"\"\"\n",
        "    Fuse tool outputs into a verdict with label, score (0-100), confidence (low/med/high),\n",
        "    evidence (bullets), policy flags, and MITRE tags when applicable.\n",
        "    \"\"\"\n",
        "    score = 0\n",
        "    evidence = []\n",
        "    mitre = []\n",
        "\n",
        "    # Reputation\n",
        "    if (otx := findings.get(\"otx\")):\n",
        "        s = otx.get(\"score\", 0)\n",
        "        if s >= 70:\n",
        "            score += 50; evidence.append(f\"OTX score {s} (>=70)\")\n",
        "        elif s >= 40:\n",
        "            score += 25; evidence.append(f\"OTX score {s} (>=40)\")\n",
        "        if otx.get(\"tags\"):\n",
        "            evidence.append(f\"OTX tags: {', '.join(otx['tags'])}\")\n",
        "\n",
        "    # Domain age\n",
        "    if (whois := findings.get(\"whois\")):\n",
        "        age = whois.get(\"age_days\", 9999)\n",
        "        if age < 30:\n",
        "            score += 30; evidence.append(f\"Young domain ({age} days)\")\n",
        "        elif age < 90:\n",
        "            score += 15; evidence.append(f\"Newish domain ({age} days)\")\n",
        "\n",
        "    # URLScan signals\n",
        "    signals = []\n",
        "    if (us := findings.get(\"urlscan\")):\n",
        "        signals = us.get(\"malicious_signals\", [])\n",
        "        if \"credential_bait\" in signals:\n",
        "            score += 30; evidence.append(\"Credential lure detected\")\n",
        "        if \"fresh_domain\" in signals or (us.get(\"domain_age_days\") is not None and us[\"domain_age_days\"] < 30):\n",
        "            score += 15; evidence.append(f\"Fresh domain via urlscan ({us.get('domain_age_days','?')} days)\")\n",
        "        mitre.extend(map_signals_to_mitre(signals))\n",
        "\n",
        "    # GeoIP\n",
        "    if (g := findings.get(\"geoip\")):\n",
        "        if g.get(\"bogon\"):\n",
        "            evidence.append(\"Bogon/internal IP (context dependent)\")\n",
        "\n",
        "    # Policy\n",
        "    pol = findings.get(\"policy\", {}).get(\"policy\", \"none\")\n",
        "    if pol == \"blocklisted\":\n",
        "        score = max(score, 90); evidence.append(\"Organization blocklist match\")\n",
        "    elif pol == \"allowlisted\":\n",
        "        # Reduce score significantly but do not force benign\n",
        "        score = max(0, score - 40); evidence.append(\"Organization allowlist match\")\n",
        "\n",
        "    # Final label\n",
        "    label = \"Malicious\" if score >= 70 else \"Suspicious\" if score >= 40 else \"Benign\"\n",
        "\n",
        "    # Confidence heuristic (based on variety/strength of signals)\n",
        "    strong_signals = sum(1 for e in evidence if any(k in e.lower() for k in [\"otx score\", \"credential\", \"blocklist\"]))\n",
        "    confidence = \"high\" if strong_signals >= 2 else \"medium\" if strong_signals == 1 else \"low\"\n",
        "\n",
        "    return {\n",
        "        \"label\": label,\n",
        "        \"score\": int(min(score, 100)),\n",
        "        \"confidence\": confidence,\n",
        "        \"evidence\": evidence,\n",
        "        \"policy\": pol,\n",
        "        \"mitre\": mitre,  # list of {technique, name}\n",
        "        \"ts\": now_iso(),\n",
        "    }\n",
        "\n",
        "# ── Exports: CSV and STIX 2.1 ─────────────────────────────────────────────────\n",
        "@tool\n",
        "def export_csv(records: List[Dict[str, Any]], path: str = \"triage_results.csv\") -> Dict[str, Any]:\n",
        "    \"\"\"Export triage records to CSV (flat schema).\"\"\"\n",
        "    if not records:\n",
        "        return {\"error\": \"no records\"}\n",
        "    # Collect union of keys for a flat header\n",
        "    headers = sorted({k for r in records for k in r.keys() if k not in (\"evidence\",\"mitre\")})\n",
        "    headers += [\"evidence\", \"mitre\"]\n",
        "    with open(path, \"w\", newline=\"\", encoding=\"utf-8\") as f:\n",
        "        w = csv.DictWriter(f, fieldnames=headers)\n",
        "        w.writeheader()\n",
        "        for r in records:\n",
        "            row = {k: r.get(k) for k in headers}\n",
        "            # stringify lists\n",
        "            row[\"evidence\"] = \"; \".join(r.get(\"evidence\", []))\n",
        "            row[\"mitre\"] = \"; \".join([m.get(\"technique\",\"\") for m in r.get(\"mitre\", [])])\n",
        "            w.writerow(row)\n",
        "    return {\"ok\": True, \"path\": os.path.abspath(path)}\n",
        "\n",
        "def _stix_now() -> str:\n",
        "    return datetime.datetime.utcnow().replace(microsecond=0).isoformat() + \"Z\"\n",
        "\n",
        "def _stix_id(obj_type: str) -> str:\n",
        "    return f\"{obj_type}--{uuid.uuid4()}\"\n",
        "\n",
        "@tool\n",
        "def export_stix2(records: List[Dict[str, Any]], path: str = \"triage_results_stix2.json\") -> Dict[str, Any]:\n",
        "    \"\"\"\n",
        "    Export to a minimal STIX 2.1 Bundle of indicator SDOs.\n",
        "    Each record should include: ioc, type, label/score/confidence/evidence/mitre.\n",
        "    \"\"\"\n",
        "    if not records:\n",
        "        return {\"error\": \"no records\"}\n",
        "    objs = []\n",
        "    created = _stix_now()\n",
        "    for r in records:\n",
        "        ioc = r.get(\"ioc\")\n",
        "        typ = r.get(\"type\")\n",
        "        if not ioc or not typ:\n",
        "            continue\n",
        "        patt = None\n",
        "        if typ == \"ip\":\n",
        "            patt = f\"[ipv4-addr:value = '{ioc}']\"\n",
        "        elif typ == \"domain\":\n",
        "            patt = f\"[domain-name:value = '{ioc}']\"\n",
        "        elif typ == \"url\":\n",
        "            patt = f\"[url:value = '{ioc}']\"\n",
        "        elif typ == \"sha256\":\n",
        "            patt = f\"[file:hashes.'SHA-256' = '{ioc}']\"\n",
        "        if not patt:\n",
        "            continue\n",
        "        ind = {\n",
        "            \"type\": \"indicator\",\n",
        "            \"spec_version\": \"2.1\",\n",
        "            \"id\": _stix_id(\"indicator\"),\n",
        "            \"created\": created,\n",
        "            \"modified\": created,\n",
        "            \"name\": f\"IOC: {ioc}\",\n",
        "            \"pattern\": patt,\n",
        "            \"pattern_type\": \"stix\",\n",
        "            \"valid_from\": created,\n",
        "            \"confidence\": {\"low\": 15, \"medium\": 50, \"high\": 75}.get(r.get(\"confidence\",\"low\"), 15),\n",
        "            \"labels\": [r.get(\"label\",\"Unknown\")],\n",
        "            \"description\": \"; \".join(r.get(\"evidence\", []))[:5000],\n",
        "            \"extensions\": {\n",
        "                \"x-triage\": {\n",
        "                    \"score\": r.get(\"score\"),\n",
        "                    \"policy\": r.get(\"policy\"),\n",
        "                    \"mitre\": r.get(\"mitre\", []),\n",
        "                }\n",
        "            }\n",
        "        }\n",
        "        objs.append(ind)\n",
        "    bundle = {\"type\": \"bundle\", \"id\": _stix_id(\"bundle\"), \"objects\": objs}\n",
        "    with open(path, \"w\", encoding=\"utf-8\") as f:\n",
        "        json.dump(bundle, f, indent=2)\n",
        "    return {\"ok\": True, \"path\": os.path.abspath(path), \"count\": len(objs)}\n",
        "\n",
        "# ── Batch mode from CSV ───────────────────────────────────────────────────────\n",
        "@tool\n",
        "def batch_from_csv(path: str, column: str = \"indicator\") -> Dict[str, Any]:\n",
        "    \"\"\"\n",
        "    Read a CSV file and return a clean list of indicators found in the given column.\n",
        "    \"\"\"\n",
        "    if not os.path.exists(path):\n",
        "        return {\"error\": f\"file not found: {path}\"}\n",
        "    vals = []\n",
        "    with open(path, \"r\", encoding=\"utf-8\") as f:\n",
        "        r = csv.DictReader(f)\n",
        "        if column not in r.fieldnames:\n",
        "            return {\"error\": f\"column '{column}' not in CSV header: {r.fieldnames}\"}\n",
        "        for row in r:\n",
        "            v = (row.get(column) or \"\").strip()\n",
        "            if v:\n",
        "                vals.append(v)\n",
        "    return {\"count\": len(vals), \"indicators\": vals}\n"
      ],
      "metadata": {
        "id": "IhaiC2FYb8jA"
      },
      "execution_count": 46,
      "outputs": []
    },
    {
      "cell_type": "markdown",
      "source": [
        "### Define Agent System Prompt and Build Agent\n",
        "\n",
        "This cell defines the system prompt that guides the behavior of the advanced security agent. It outlines a detailed workflow for the agent to follow when processing user input, including normalizing IOCs, running various checks based on IOC type, fusing findings into a verdict, and exporting results if requested. Finally, it builds the React agent using the defined model, tools, and system prompt. Example functions for running single and batch demos are also included.\n",
        "\n",
        "**Explanation:**\n",
        "- `SYSTEM_PROMPT`: A multiline string containing instructions for the agent. It describes the agent's role (\"cybersecurity threat-intel assistant\") and the step-by-step process it should follow.\n",
        "- `tools = [...]`: Creates a list of all the defined tool functions.\n",
        "- `agent = create_react_agent(model=model, tools=tools, prompt=SYSTEM_PROMPT)`: Creates the React agent instance, providing the language model, the list of tools, and the system prompt.\n",
        "- `def run_single_demo():`: Defines a function to demonstrate triaging a list of IOCs provided directly in the code. It uses the `agent.stream` method with `stream_mode=[\"messages\", \"updates\"]` to show the agent's thought process and tool calls as they happen.\n",
        "- `def run_batch_demo(csv_path: str):`: Defines a function to demonstrate triaging IOCs loaded from a CSV file. It constructs a prompt for the agent asking it to load from the CSV and then export the results.\n",
        "\n",
        "**Guidance:**\n",
        "- The system prompt is crucial for directing the agent's behavior and ensuring it follows the desired workflow.\n",
        "- The `agent.stream` method is useful for observing the agent's execution step by step, including the tool calls and intermediate reasoning.\n",
        "- The demo functions provide examples of how to interact with the agent."
      ],
      "metadata": {
        "id": "eaOwIOTbeiaL"
      }
    },
    {
      "cell_type": "code",
      "source": [
        "# ── Agent system prompt ───────────────────────────────────────────────────────\n",
        "SYSTEM_PROMPT = \"\"\"You are a cybersecurity threat-intel assistant.\n",
        "Workflow for any user input:\n",
        "1) Normalize/deduplicate IOCs with normalize_iocs.\n",
        "2) For each indicator:\n",
        "   - Run policy_check first and record result.\n",
        "   - If type == domain: whois_lookup, otx_reputation\n",
        "   - If type == url: urlscan_submit, otx_reputation\n",
        "   - If type == ip: geoip, otx_reputation\n",
        "   - If type == sha256: otx_reputation (hash reputation)\n",
        "3) Call verdict_fuser per indicator to assign label/score/confidence/evidence/mitre/policy.\n",
        "4) Return a compact triage report (table-like text) and recommended next steps according to label.\n",
        "5) If user asks to export: call export_csv and/or export_stix2 with the full set of per-IOC records\n",
        "   (include keys: ioc, type, label, score, confidence, evidence, policy, mitre).\n",
        "6) If user provides a CSV path: use batch_from_csv to load indicators, then process as above.\n",
        "Be concise, never invent data, and include task/report file paths from export tools in the final answer.\n",
        "\"\"\"\n",
        "\n",
        "# ── Build the agent ───────────────────────────────────────────────────────────\n",
        "tools = [\n",
        "    normalize_iocs, whois_lookup, geoip, otx_reputation, urlscan_submit,\n",
        "    policy_check, verdict_fuser, export_csv, export_stix2, batch_from_csv\n",
        "]\n",
        "agent = create_react_agent(model=model, tools=tools, prompt=SYSTEM_PROMPT)\n",
        "\n",
        "# ── Example runs ──────────────────────────────────────────────────────────────\n",
        "def run_single_demo():\n",
        "    user_iocs = [\n",
        "        \"https://update-login-secure.com/session\",\n",
        "        \"1.1.1.1\",\n",
        "        \"login-verify-example.com\",\n",
        "        \"deadbeef\"*8\n",
        "    ]\n",
        "    print(\"=== Streaming tokens and updates ===\")\n",
        "    results = []  # collect to demonstrate export\n",
        "    for mode, chunk in agent.stream(\n",
        "        {\"messages\": [{\"role\": \"user\", \"content\": f\"Please triage these IOCs: {', '.join(user_iocs)}\"}]},\n",
        "        stream_mode=[\"messages\", \"updates\"],  # tokens + per-step updates\n",
        "    ):\n",
        "        if mode == \"messages\":\n",
        "            msg, meta = chunk\n",
        "            if msg.content:\n",
        "                print(msg.content, end=\"\", flush=True)\n",
        "                # OPTIONAL: crude capture — in practice, have agent return JSON alongside text\n",
        "        elif mode == \"updates\":\n",
        "            print(\"\\n[update]\", chunk)\n",
        "    print(\"\\n=== Done ===\")\n",
        "\n",
        "def run_batch_demo(csv_path: str):\n",
        "    prompt = f\"\"\"\n",
        "Load indicators from CSV at {csv_path} (column 'indicator'), triage them,\n",
        "then export both CSV and STIX2. Include the file paths in your response.\n",
        "\"\"\"\n",
        "    for mode, chunk in agent.stream(\n",
        "        {\"messages\": [{\"role\": \"user\", \"content\": prompt}]},\n",
        "        stream_mode=[\"messages\", \"updates\"],\n",
        "    ):\n",
        "        if mode == \"messages\":\n",
        "            msg, meta = chunk\n",
        "            if msg.content:\n",
        "                print(msg.content, end=\"\", flush=True)\n",
        "        elif mode == \"updates\":\n",
        "            print(\"\\n[update]\", chunk)\n",
        "    print(\"\\n=== Done ===\")"
      ],
      "metadata": {
        "id": "QS4F9jTAcEy5"
      },
      "execution_count": 47,
      "outputs": []
    },
    {
      "cell_type": "code",
      "source": [
        "run_single_demo()"
      ],
      "metadata": {
        "id": "GNbBNx1ngnZQ",
        "colab": {
          "base_uri": "https://localhost:8080/"
        },
        "outputId": "97dbfe2c-2948-4a45-e3f0-6d3b7ffcf841"
      },
      "execution_count": 48,
      "outputs": [
        {
          "output_type": "stream",
          "name": "stdout",
          "text": [
            "=== Streaming tokens and updates ===\n",
            "I'll help you triage these IOCs. Let me start by normalizing and deduplicating them, then run the appropriate checks for each indicator type.\n",
            "[update] {'agent': {'messages': [AIMessage(content=\"I'll help you triage these IOCs. Let me start by normalizing and deduplicating them, then run the appropriate checks for each indicator type.\", additional_kwargs={'tool_calls': [{'id': 'tooluse_IFS1jmgpT_678ugwIgfoDg', 'function': {'arguments': '{\"iocs\": [\"https://update-login-secure.com/session\",\"1.1.1.1\",\"login-verify-example.com\",\"deadbeefdeadbeefdeadbeefdeadbeefdeadbeefdeadbeefdeadbeefdeadbeef\"]}', 'name': 'normalize_iocs'}, 'type': 'function', 'index': 0}]}, response_metadata={}, id='run--3acf6018-94b2-40cc-8891-cb16ea82c369', tool_calls=[{'name': 'normalize_iocs', 'args': {'iocs': ['https://update-login-secure.com/session', '1.1.1.1', 'login-verify-example.com', 'deadbeefdeadbeefdeadbeefdeadbeefdeadbeefdeadbeefdeadbeefdeadbeef']}, 'id': 'tooluse_IFS1jmgpT_678ugwIgfoDg', 'type': 'tool_call'}])]}}\n",
            "{\"ip\": [\"1.1.1.1\"], \"domain\": [\"https://update-login-secure.com/session\", \"login-verify-example.com\"], \"url\": [], \"sha256\": [\"deadbeefdeadbeefdeadbeefdeadbeefdeadbeefdeadbeefdeadbeefdeadbeef\"], \"unknown\": []}\n",
            "[update] {'tools': {'messages': [ToolMessage(content='{\"ip\": [\"1.1.1.1\"], \"domain\": [\"https://update-login-secure.com/session\", \"login-verify-example.com\"], \"url\": [], \"sha256\": [\"deadbeefdeadbeefdeadbeefdeadbeefdeadbeefdeadbeefdeadbeefdeadbeef\"], \"unknown\": []}', name='normalize_iocs', id='f909a232-5fe2-46fa-9c96-73be67610fcc', tool_call_id='tooluse_IFS1jmgpT_678ugwIgfoDg')]}}\n",
            "I notice the normalization classified the URL as a domain. Let me correct this and process each IOC with the appropriate checks:\n",
            "[update] {'agent': {'messages': [AIMessage(content='I notice the normalization classified the URL as a domain. Let me correct this and process each IOC with the appropriate checks:', additional_kwargs={'tool_calls': [{'id': 'tooluse_P12sJuyiSxCrs4b2vPhuQw', 'function': {'arguments': '{\"ioc\": \"https://update-login-secure.com/session\"}', 'name': 'policy_check'}, 'type': 'function', 'index': 0}, {'id': 'tooluse_BPjYMvUmQbauUAFkQYRAgA', 'function': {'arguments': '{\"ioc\": \"1.1.1.1\"}', 'name': 'policy_check'}, 'type': 'function', 'index': 1}, {'id': 'tooluse_C7sINfoZQNaFQPaewvE8uQ', 'function': {'arguments': '{\"ioc\": \"login-verify-example.com\"}', 'name': 'policy_check'}, 'type': 'function', 'index': 2}, {'id': 'tooluse_rBGG-urSSvqLb2prCLrJcw', 'function': {'arguments': '{\"ioc\": \"deadbeefdeadbeefdeadbeefdeadbeefdeadbeefdeadbeefdeadbeefdeadbeef\"}', 'name': 'policy_check'}, 'type': 'function', 'index': 3}]}, response_metadata={}, id='run--eb49addb-c5d6-46e6-8a56-8de314044c2d', tool_calls=[{'name': 'policy_check', 'args': {'ioc': 'https://update-login-secure.com/session'}, 'id': 'tooluse_P12sJuyiSxCrs4b2vPhuQw', 'type': 'tool_call'}, {'name': 'policy_check', 'args': {'ioc': '1.1.1.1'}, 'id': 'tooluse_BPjYMvUmQbauUAFkQYRAgA', 'type': 'tool_call'}, {'name': 'policy_check', 'args': {'ioc': 'login-verify-example.com'}, 'id': 'tooluse_C7sINfoZQNaFQPaewvE8uQ', 'type': 'tool_call'}, {'name': 'policy_check', 'args': {'ioc': 'deadbeefdeadbeefdeadbeefdeadbeefdeadbeefdeadbeefdeadbeefdeadbeef'}, 'id': 'tooluse_rBGG-urSSvqLb2prCLrJcw', 'type': 'tool_call'}])]}}\n",
            "{\"ioc\": \"https://update-login-secure.com/session\", \"policy\": \"none\"}\n",
            "[update] {'tools': {'messages': [ToolMessage(content='{\"ioc\": \"https://update-login-secure.com/session\", \"policy\": \"none\"}', name='policy_check', id='576a3d06-0ade-416b-b3e8-3642bd8ac733', tool_call_id='tooluse_P12sJuyiSxCrs4b2vPhuQw')]}}\n",
            "{\"ioc\": \"1.1.1.1\", \"policy\": \"none\"}\n",
            "[update] {'tools': {'messages': [ToolMessage(content='{\"ioc\": \"1.1.1.1\", \"policy\": \"none\"}', name='policy_check', id='40b0a9f5-ff5f-40de-a37f-f707f08d8651', tool_call_id='tooluse_BPjYMvUmQbauUAFkQYRAgA')]}}\n",
            "{\"ioc\": \"login-verify-example.com\", \"policy\": \"none\"}\n",
            "[update] {'tools': {'messages': [ToolMessage(content='{\"ioc\": \"login-verify-example.com\", \"policy\": \"none\"}', name='policy_check', id='26ed8452-c9c7-4d7b-b075-46de95fc3078', tool_call_id='tooluse_C7sINfoZQNaFQPaewvE8uQ')]}}\n",
            "{\"ioc\": \"deadbeefdeadbeefdeadbeefdeadbeefdeadbeefdeadbeefdeadbeefdeadbeef\", \"policy\": \"none\"}\n",
            "[update] {'tools': {'messages': [ToolMessage(content='{\"ioc\": \"deadbeefdeadbeefdeadbeefdeadbeefdeadbeefdeadbeefdeadbeefdeadbeef\", \"policy\": \"none\"}', name='policy_check', id='4b0d0f19-c461-4498-9019-1dd72b60f373', tool_call_id='tooluse_rBGG-urSSvqLb2prCLrJcw')]}}\n",
            "Now let me run the appropriate checks for each IOC type:\n",
            "[update] {'agent': {'messages': [AIMessage(content='Now let me run the appropriate checks for each IOC type:', additional_kwargs={'tool_calls': [{'id': 'tooluse_Q9OMfvWjRMi6tqzbneh2Aw', 'function': {'arguments': '{\"url\": \"https://update-login-secure.com/session\"}', 'name': 'urlscan_submit'}, 'type': 'function', 'index': 0}, {'id': 'tooluse_8YS9zS3vThWiK6bvPgJnqw', 'function': {'arguments': '{\"ioc\": \"https://update-login-secure.com/session\"}', 'name': 'otx_reputation'}, 'type': 'function', 'index': 1}, {'id': 'tooluse_VRsDO4d7SF6EPBE6oWUuMw', 'function': {'arguments': '{\"ip\": \"1.1.1.1\"}', 'name': 'geoip'}, 'type': 'function', 'index': 2}, {'id': 'tooluse_ZGk0risETga7_L4cnwuXIQ', 'function': {'arguments': '{\"ioc\": \"1.1.1.1\"}', 'name': 'otx_reputation'}, 'type': 'function', 'index': 3}, {'id': 'tooluse_WmcwmGXyR5ywxxlKiMjmKw', 'function': {'arguments': '{\"domain\": \"login-verify-example.com\"}', 'name': 'whois_lookup'}, 'type': 'function', 'index': 4}, {'id': 'tooluse_xTSliOo0TSOWrrQ3f-jhIw', 'function': {'arguments': '{\"ioc\": \"login-verify-example.com\"}', 'name': 'otx_reputation'}, 'type': 'function', 'index': 5}, {'id': 'tooluse_297-l3wIQ_CD_NZuxxiNzg', 'function': {'arguments': '{\"ioc\": \"deadbeefdeadbeefdeadbeefdeadbeefdeadbeefdeadbeefdeadbeefdeadbeef\"}', 'name': 'otx_reputation'}, 'type': 'function', 'index': 6}]}, response_metadata={}, id='run--f2022e6f-8ed1-4255-b462-a45b06a80da5', tool_calls=[{'name': 'urlscan_submit', 'args': {'url': 'https://update-login-secure.com/session'}, 'id': 'tooluse_Q9OMfvWjRMi6tqzbneh2Aw', 'type': 'tool_call'}, {'name': 'otx_reputation', 'args': {'ioc': 'https://update-login-secure.com/session'}, 'id': 'tooluse_8YS9zS3vThWiK6bvPgJnqw', 'type': 'tool_call'}, {'name': 'geoip', 'args': {'ip': '1.1.1.1'}, 'id': 'tooluse_VRsDO4d7SF6EPBE6oWUuMw', 'type': 'tool_call'}, {'name': 'otx_reputation', 'args': {'ioc': '1.1.1.1'}, 'id': 'tooluse_ZGk0risETga7_L4cnwuXIQ', 'type': 'tool_call'}, {'name': 'whois_lookup', 'args': {'domain': 'login-verify-example.com'}, 'id': 'tooluse_WmcwmGXyR5ywxxlKiMjmKw', 'type': 'tool_call'}, {'name': 'otx_reputation', 'args': {'ioc': 'login-verify-example.com'}, 'id': 'tooluse_xTSliOo0TSOWrrQ3f-jhIw', 'type': 'tool_call'}, {'name': 'otx_reputation', 'args': {'ioc': 'deadbeefdeadbeefdeadbeefdeadbeefdeadbeefdeadbeefdeadbeefdeadbeef'}, 'id': 'tooluse_297-l3wIQ_CD_NZuxxiNzg', 'type': 'tool_call'}])]}}\n",
            "{\"url\": \"https://update-login-secure.com/session\", \"scan_id\": \"mock-scan-123\", \"final_url\": \"https://secure-login-example.com/\", \"malicious_signals\": [\"fresh_domain\", \"credential_bait\"], \"screenshot\": null, \"domain_age_days\": 10, \"task_report_url\": \"https://urlscan.io/result/mock-scan-123/\", \"source\": \"mock\", \"ts\": \"2025-09-12T10:20:46Z\"}\n",
            "[update] {'tools': {'messages': [ToolMessage(content='{\"url\": \"https://update-login-secure.com/session\", \"scan_id\": \"mock-scan-123\", \"final_url\": \"https://secure-login-example.com/\", \"malicious_signals\": [\"fresh_domain\", \"credential_bait\"], \"screenshot\": null, \"domain_age_days\": 10, \"task_report_url\": \"https://urlscan.io/result/mock-scan-123/\", \"source\": \"mock\", \"ts\": \"2025-09-12T10:20:46Z\"}', name='urlscan_submit', id='1d063488-c7c7-470d-b1b3-a8704fd26c89', tool_call_id='tooluse_Q9OMfvWjRMi6tqzbneh2Aw')]}}\n",
            "{\"ioc\": \"https://update-login-secure.com/session\", \"type\": \"domain\", \"pulses\": 2, \"score\": 70, \"tags\": [\"phishing\"], \"source\": \"mock\", \"ts\": \"2025-09-12T10:20:46Z\"}\n",
            "[update] {'tools': {'messages': [ToolMessage(content='{\"ioc\": \"https://update-login-secure.com/session\", \"type\": \"domain\", \"pulses\": 2, \"score\": 70, \"tags\": [\"phishing\"], \"source\": \"mock\", \"ts\": \"2025-09-12T10:20:46Z\"}', name='otx_reputation', id='d20ec359-acae-4f02-bbea-5969073a9d08', tool_call_id='tooluse_8YS9zS3vThWiK6bvPgJnqw')]}}\n",
            "{\"ip\": \"1.1.1.1\", \"bogon\": false, \"country\": \"US\", \"asn\": 13335, \"org\": \"Cloudflare\", \"ts\": \"2025-09-12T10:20:46Z\", \"source\": \"mock\"}\n",
            "[update] {'tools': {'messages': [ToolMessage(content='{\"ip\": \"1.1.1.1\", \"bogon\": false, \"country\": \"US\", \"asn\": 13335, \"org\": \"Cloudflare\", \"ts\": \"2025-09-12T10:20:46Z\", \"source\": \"mock\"}', name='geoip', id='be53b7d2-382a-4502-93b1-e94b54cac991', tool_call_id='tooluse_VRsDO4d7SF6EPBE6oWUuMw')]}}\n",
            "{\"ioc\": \"1.1.1.1\", \"type\": \"ip\", \"pulses\": 0, \"score\": 10, \"tags\": [], \"source\": \"mock\", \"ts\": \"2025-09-12T10:20:46Z\"}\n",
            "[update] {'tools': {'messages': [ToolMessage(content='{\"ioc\": \"1.1.1.1\", \"type\": \"ip\", \"pulses\": 0, \"score\": 10, \"tags\": [], \"source\": \"mock\", \"ts\": \"2025-09-12T10:20:46Z\"}', name='otx_reputation', id='42525480-57bc-4393-be6a-0b2b12ceea00', tool_call_id='tooluse_ZGk0risETga7_L4cnwuXIQ')]}}\n",
            "{\"ioc\": \"login-verify-example.com\", \"type\": \"domain\", \"pulses\": 2, \"score\": 70, \"tags\": [\"phishing\"], \"source\": \"mock\", \"ts\": \"2025-09-12T10:20:46Z\"}\n",
            "[update] {'tools': {'messages': [ToolMessage(content='{\"ioc\": \"login-verify-example.com\", \"type\": \"domain\", \"pulses\": 2, \"score\": 70, \"tags\": [\"phishing\"], \"source\": \"mock\", \"ts\": \"2025-09-12T10:20:46Z\"}', name='otx_reputation', id='3400b03d-bb49-40e7-a412-14d7404a2e69', tool_call_id='tooluse_xTSliOo0TSOWrrQ3f-jhIw')]}}\n",
            "{\"ioc\": \"deadbeefdeadbeefdeadbeefdeadbeefdeadbeefdeadbeefdeadbeefdeadbeef\", \"type\": \"sha256\", \"pulses\": 0, \"score\": 10, \"tags\": [], \"source\": \"mock\", \"ts\": \"2025-09-12T10:20:46Z\"}\n",
            "[update] {'tools': {'messages': [ToolMessage(content='{\"ioc\": \"deadbeefdeadbeefdeadbeefdeadbeefdeadbeefdeadbeefdeadbeefdeadbeef\", \"type\": \"sha256\", \"pulses\": 0, \"score\": 10, \"tags\": [], \"source\": \"mock\", \"ts\": \"2025-09-12T10:20:46Z\"}', name='otx_reputation', id='96bd0211-5858-4e4e-9c40-486f7710e75a', tool_call_id='tooluse_297-l3wIQ_CD_NZuxxiNzg')]}}\n",
            "{\"domain\": \"login-verify-example.com\", \"created\": \"2025-07-12\", \"registrar\": \"NameCheap\", \"registrant_country\": \"PA\", \"age_days\": 62, \"disposable_like\": false, \"source\": \"mock\", \"ts\": \"2025-09-12T10:20:46Z\"}\n",
            "[update] {'tools': {'messages': [ToolMessage(content='{\"domain\": \"login-verify-example.com\", \"created\": \"2025-07-12\", \"registrar\": \"NameCheap\", \"registrant_country\": \"PA\", \"age_days\": 62, \"disposable_like\": false, \"source\": \"mock\", \"ts\": \"2025-09-12T10:20:46Z\"}', name='whois_lookup', id='258801e0-392e-4be9-b64e-a3d10f2b50fd', tool_call_id='tooluse_WmcwmGXyR5ywxxlKiMjmKw')]}}\n"
          ]
        },
        {
          "output_type": "stream",
          "name": "stderr",
          "text": [
            "/tmp/ipython-input-1285824913.py:26: DeprecationWarning: datetime.datetime.utcnow() is deprecated and scheduled for removal in a future version. Use timezone-aware objects to represent datetimes in UTC: datetime.datetime.now(datetime.UTC).\n",
            "  return datetime.datetime.utcnow().replace(microsecond=0).isoformat() + \"Z\"\n",
            "/tmp/ipython-input-1285824913.py:26: DeprecationWarning: datetime.datetime.utcnow() is deprecated and scheduled for removal in a future version. Use timezone-aware objects to represent datetimes in UTC: datetime.datetime.now(datetime.UTC).\n",
            "  return datetime.datetime.utcnow().replace(microsecond=0).isoformat() + \"Z\"\n",
            "/tmp/ipython-input-1285824913.py:26: DeprecationWarning: datetime.datetime.utcnow() is deprecated and scheduled for removal in a future version. Use timezone-aware objects to represent datetimes in UTC: datetime.datetime.now(datetime.UTC).\n",
            "  return datetime.datetime.utcnow().replace(microsecond=0).isoformat() + \"Z\"\n",
            "/tmp/ipython-input-1285824913.py:26: DeprecationWarning: datetime.datetime.utcnow() is deprecated and scheduled for removal in a future version. Use timezone-aware objects to represent datetimes in UTC: datetime.datetime.now(datetime.UTC).\n",
            "  return datetime.datetime.utcnow().replace(microsecond=0).isoformat() + \"Z\"\n",
            "/tmp/ipython-input-1285824913.py:26: DeprecationWarning: datetime.datetime.utcnow() is deprecated and scheduled for removal in a future version. Use timezone-aware objects to represent datetimes in UTC: datetime.datetime.now(datetime.UTC).\n",
            "  return datetime.datetime.utcnow().replace(microsecond=0).isoformat() + \"Z\"\n",
            "/tmp/ipython-input-1285824913.py:26: DeprecationWarning: datetime.datetime.utcnow() is deprecated and scheduled for removal in a future version. Use timezone-aware objects to represent datetimes in UTC: datetime.datetime.now(datetime.UTC).\n",
            "  return datetime.datetime.utcnow().replace(microsecond=0).isoformat() + \"Z\"\n"
          ]
        },
        {
          "output_type": "stream",
          "name": "stdout",
          "text": [
            "Now let me generate verdicts for each IOC:\n",
            "[update] {'agent': {'messages': [AIMessage(content='Now let me generate verdicts for each IOC:', additional_kwargs={'tool_calls': [{'id': 'tooluse_AruwnPYfTEGpOaIj0qX_8w', 'function': {'arguments': '{\"findings\": {\"ioc\":\"https://update-login-secure.com/session\",\"type\":\"url\",\"policy\":{\"policy\":\"none\"},\"urlscan\":{\"url\":\"https://update-login-secure.com/session\",\"scan_id\":\"mock-scan-123\",\"final_url\":\"https://secure-login-example.com/\",\"malicious_signals\":[\"fresh_domain\",\"credential_bait\"],\"screenshot\":null,\"domain_age_days\":10,\"task_report_url\":\"https://urlscan.io/result/mock-scan-123/\",\"source\":\"mock\",\"ts\":\"2025-09-12T10:20:46Z\"},\"otx\":{\"ioc\":\"https://update-login-secure.com/session\",\"type\":\"domain\",\"pulses\":2,\"score\":70,\"tags\":[\"phishing\"],\"source\":\"mock\",\"ts\":\"2025-09-12T10:20:46Z\"}}}', 'name': 'verdict_fuser'}, 'type': 'function', 'index': 0}, {'id': 'tooluse_yj9YBPrKQsq6YsB7PnuGdw', 'function': {'arguments': '{\"findings\": {\"ioc\":\"1.1.1.1\",\"type\":\"ip\",\"policy\":{\"policy\":\"none\"},\"geoip\":{\"ip\":\"1.1.1.1\",\"bogon\":false,\"country\":\"US\",\"asn\":13335,\"org\":\"Cloudflare\",\"ts\":\"2025-09-12T10:20:46Z\",\"source\":\"mock\"},\"otx\":{\"ioc\":\"1.1.1.1\",\"type\":\"ip\",\"pulses\":0,\"score\":10,\"tags\":[],\"source\":\"mock\",\"ts\":\"2025-09-12T10:20:46Z\"}}}', 'name': 'verdict_fuser'}, 'type': 'function', 'index': 1}, {'id': 'tooluse_pal0swbIT8-O8d-g1kJjPw', 'function': {'arguments': '{\"findings\": {\"ioc\":\"login-verify-example.com\",\"type\":\"domain\",\"policy\":{\"policy\":\"none\"},\"whois\":{\"domain\":\"login-verify-example.com\",\"created\":\"2025-07-12\",\"registrar\":\"NameCheap\",\"registrant_country\":\"PA\",\"age_days\":62,\"disposable_like\":false,\"source\":\"mock\",\"ts\":\"2025-09-12T10:20:46Z\"},\"otx\":{\"ioc\":\"login-verify-example.com\",\"type\":\"domain\",\"pulses\":2,\"score\":70,\"tags\":[\"phishing\"],\"source\":\"mock\",\"ts\":\"2025-09-12T10:20:46Z\"}}}', 'name': 'verdict_fuser'}, 'type': 'function', 'index': 2}, {'id': 'tooluse_AioEuoWxQKa-O-5-rbgWeA', 'function': {'arguments': '{\"findings\": {\"ioc\":\"deadbeefdeadbeefdeadbeefdeadbeefdeadbeefdeadbeefdeadbeefdeadbeef\",\"type\":\"sha256\",\"policy\":{\"policy\":\"none\"},\"otx\":{\"ioc\":\"deadbeefdeadbeefdeadbeefdeadbeefdeadbeefdeadbeefdeadbeefdeadbeef\",\"type\":\"sha256\",\"pulses\":0,\"score\":10,\"tags\":[],\"source\":\"mock\",\"ts\":\"2025-09-12T10:20:46Z\"}}}', 'name': 'verdict_fuser'}, 'type': 'function', 'index': 3}]}, response_metadata={}, id='run--5d958018-adc6-437f-ba31-ba416e1bb118', tool_calls=[{'name': 'verdict_fuser', 'args': {'findings': {'ioc': 'https://update-login-secure.com/session', 'type': 'url', 'policy': {'policy': 'none'}, 'urlscan': {'url': 'https://update-login-secure.com/session', 'scan_id': 'mock-scan-123', 'final_url': 'https://secure-login-example.com/', 'malicious_signals': ['fresh_domain', 'credential_bait'], 'screenshot': None, 'domain_age_days': 10, 'task_report_url': 'https://urlscan.io/result/mock-scan-123/', 'source': 'mock', 'ts': '2025-09-12T10:20:46Z'}, 'otx': {'ioc': 'https://update-login-secure.com/session', 'type': 'domain', 'pulses': 2, 'score': 70, 'tags': ['phishing'], 'source': 'mock', 'ts': '2025-09-12T10:20:46Z'}}}, 'id': 'tooluse_AruwnPYfTEGpOaIj0qX_8w', 'type': 'tool_call'}, {'name': 'verdict_fuser', 'args': {'findings': {'ioc': '1.1.1.1', 'type': 'ip', 'policy': {'policy': 'none'}, 'geoip': {'ip': '1.1.1.1', 'bogon': False, 'country': 'US', 'asn': 13335, 'org': 'Cloudflare', 'ts': '2025-09-12T10:20:46Z', 'source': 'mock'}, 'otx': {'ioc': '1.1.1.1', 'type': 'ip', 'pulses': 0, 'score': 10, 'tags': [], 'source': 'mock', 'ts': '2025-09-12T10:20:46Z'}}}, 'id': 'tooluse_yj9YBPrKQsq6YsB7PnuGdw', 'type': 'tool_call'}, {'name': 'verdict_fuser', 'args': {'findings': {'ioc': 'login-verify-example.com', 'type': 'domain', 'policy': {'policy': 'none'}, 'whois': {'domain': 'login-verify-example.com', 'created': '2025-07-12', 'registrar': 'NameCheap', 'registrant_country': 'PA', 'age_days': 62, 'disposable_like': False, 'source': 'mock', 'ts': '2025-09-12T10:20:46Z'}, 'otx': {'ioc': 'login-verify-example.com', 'type': 'domain', 'pulses': 2, 'score': 70, 'tags': ['phishing'], 'source': 'mock', 'ts': '2025-09-12T10:20:46Z'}}}, 'id': 'tooluse_pal0swbIT8-O8d-g1kJjPw', 'type': 'tool_call'}, {'name': 'verdict_fuser', 'args': {'findings': {'ioc': 'deadbeefdeadbeefdeadbeefdeadbeefdeadbeefdeadbeefdeadbeefdeadbeef', 'type': 'sha256', 'policy': {'policy': 'none'}, 'otx': {'ioc': 'deadbeefdeadbeefdeadbeefdeadbeefdeadbeefdeadbeefdeadbeefdeadbeef', 'type': 'sha256', 'pulses': 0, 'score': 10, 'tags': [], 'source': 'mock', 'ts': '2025-09-12T10:20:46Z'}}}, 'id': 'tooluse_AioEuoWxQKa-O-5-rbgWeA', 'type': 'tool_call'}])]}}\n",
            "{\"label\": \"Malicious\", \"score\": 95, \"confidence\": \"high\", \"evidence\": [\"OTX score 70 (>=70)\", \"OTX tags: phishing\", \"Credential lure detected\", \"Fresh domain via urlscan (10 days)\"], \"policy\": \"none\", \"mitre\": [{\"technique\": \"T1583.001\", \"name\": \"Acquire Infrastructure: Domains\"}, {\"technique\": \"T1566.002\", \"name\": \"Phishing: Spearphishing Link\"}], \"ts\": \"2025-09-12T10:20:55Z\"}\n",
            "[update] {'tools': {'messages': [ToolMessage(content='{\"label\": \"Malicious\", \"score\": 95, \"confidence\": \"high\", \"evidence\": [\"OTX score 70 (>=70)\", \"OTX tags: phishing\", \"Credential lure detected\", \"Fresh domain via urlscan (10 days)\"], \"policy\": \"none\", \"mitre\": [{\"technique\": \"T1583.001\", \"name\": \"Acquire Infrastructure: Domains\"}, {\"technique\": \"T1566.002\", \"name\": \"Phishing: Spearphishing Link\"}], \"ts\": \"2025-09-12T10:20:55Z\"}', name='verdict_fuser', id='6a20ad18-bd4d-491a-a984-e4f2b83d2bd0', tool_call_id='tooluse_AruwnPYfTEGpOaIj0qX_8w')]}}\n",
            "{\"label\": \"Benign\", \"score\": 0, \"confidence\": \"low\", \"evidence\": [], \"policy\": \"none\", \"mitre\": [], \"ts\": \"2025-09-12T10:20:55Z\"}\n",
            "[update] {'tools': {'messages': [ToolMessage(content='{\"label\": \"Benign\", \"score\": 0, \"confidence\": \"low\", \"evidence\": [], \"policy\": \"none\", \"mitre\": [], \"ts\": \"2025-09-12T10:20:55Z\"}', name='verdict_fuser', id='9b844555-ca4d-48a8-8f64-6f3ef46e963e', tool_call_id='tooluse_yj9YBPrKQsq6YsB7PnuGdw')]}}\n",
            "{\"label\": \"Suspicious\", \"score\": 65, \"confidence\": \"medium\", \"evidence\": [\"OTX score 70 (>=70)\", \"OTX tags: phishing\", \"Newish domain (62 days)\"], \"policy\": \"none\", \"mitre\": [], \"ts\": \"2025-09-12T10:20:55Z\"}\n",
            "[update] {'tools': {'messages': [ToolMessage(content='{\"label\": \"Suspicious\", \"score\": 65, \"confidence\": \"medium\", \"evidence\": [\"OTX score 70 (>=70)\", \"OTX tags: phishing\", \"Newish domain (62 days)\"], \"policy\": \"none\", \"mitre\": [], \"ts\": \"2025-09-12T10:20:55Z\"}', name='verdict_fuser', id='eb9d5d07-7a78-4fb9-be93-ba5a9a486220', tool_call_id='tooluse_pal0swbIT8-O8d-g1kJjPw')]}}\n",
            "{\"label\": \"Benign\", \"score\": 0, \"confidence\": \"low\", \"evidence\": [], \"policy\": \"none\", \"mitre\": [], \"ts\": \"2025-09-12T10:20:55Z\"}\n",
            "[update] {'tools': {'messages': [ToolMessage(content='{\"label\": \"Benign\", \"score\": 0, \"confidence\": \"low\", \"evidence\": [], \"policy\": \"none\", \"mitre\": [], \"ts\": \"2025-09-12T10:20:55Z\"}', name='verdict_fuser', id='11feaeed-798f-41b1-8cfe-c02809686ac9', tool_call_id='tooluse_AioEuoWxQKa-O-5-rbgWeA')]}}\n"
          ]
        },
        {
          "output_type": "stream",
          "name": "stderr",
          "text": [
            "/tmp/ipython-input-1285824913.py:26: DeprecationWarning: datetime.datetime.utcnow() is deprecated and scheduled for removal in a future version. Use timezone-aware objects to represent datetimes in UTC: datetime.datetime.now(datetime.UTC).\n",
            "  return datetime.datetime.utcnow().replace(microsecond=0).isoformat() + \"Z\"\n",
            "/tmp/ipython-input-1285824913.py:26: DeprecationWarning: datetime.datetime.utcnow() is deprecated and scheduled for removal in a future version. Use timezone-aware objects to represent datetimes in UTC: datetime.datetime.now(datetime.UTC).\n",
            "  return datetime.datetime.utcnow().replace(microsecond=0).isoformat() + \"Z\"\n",
            "/tmp/ipython-input-1285824913.py:26: DeprecationWarning: datetime.datetime.utcnow() is deprecated and scheduled for removal in a future version. Use timezone-aware objects to represent datetimes in UTC: datetime.datetime.now(datetime.UTC).\n",
            "  return datetime.datetime.utcnow().replace(microsecond=0).isoformat() + \"Z\"\n",
            "/tmp/ipython-input-1285824913.py:26: DeprecationWarning: datetime.datetime.utcnow() is deprecated and scheduled for removal in a future version. Use timezone-aware objects to represent datetimes in UTC: datetime.datetime.now(datetime.UTC).\n",
            "  return datetime.datetime.utcnow().replace(microsecond=0).isoformat() + \"Z\"\n"
          ]
        },
        {
          "output_type": "stream",
          "name": "stdout",
          "text": [
            "## IOC Triage Report\n",
            "\n",
            "| IOC | Type | Label | Score | Confidence | Key Evidence |\n",
            "|-----|------|-------|-------|------------|--------------|\n",
            "| https://update-login-secure.com/session | URL | **Malicious** | 95 | High | OTX phishing tags, credential lure detected, fresh domain (10 days) |\n",
            "| 1.1.1.1 | IP | Benign | 0 | Low | Cloudflare DNS, no threat indicators |\n",
            "| login-verify-example.com | Domain | **Suspicious** | 65 | Medium | OTX phishing tags, relatively new domain (62 days) |\n",
            "| deadbeef...deadbeef | SHA256 | Benign | 0 | Low | No threat indicators found |\n",
            "\n",
            "## Recommended Next Steps\n",
            "\n",
            "**High Priority (Malicious):**\n",
            "- **https://update-login-secure.com/session**: Block immediately. This appears to be a phishing URL with credential harvesting capabilities. Consider threat hunting for related infrastructure and user education about similar lures.\n",
            "\n",
            "**Medium Priority (Suspicious):**\n",
            "- **login-verify-example.com**: Monitor and consider blocking. Domain shows phishing indicators but needs additional validation. Review any communications or links containing this domain.\n",
            "\n",
            "**Low Priority (Benign):**\n",
            "- **1.1.1.1**: No action needed - legitimate Cloudflare DNS server\n",
            "- **SHA256 hash**: No action needed - no malicious indicators found\n",
            "\n",
            "**MITRE ATT&CK Techniques Identified:**\n",
            "- T1583.001 (Acquire Infrastructure: Domains)\n",
            "- T1566.002 (Phishing: Spearphishing Link)\n",
            "\n",
            "Would you like me to export these results to CSV or STIX format for further analysis or integration with your security tools?\n",
            "[update] {'agent': {'messages': [AIMessage(content='## IOC Triage Report\\n\\n| IOC | Type | Label | Score | Confidence | Key Evidence |\\n|-----|------|-------|-------|------------|--------------|\\n| https://update-login-secure.com/session | URL | **Malicious** | 95 | High | OTX phishing tags, credential lure detected, fresh domain (10 days) |\\n| 1.1.1.1 | IP | Benign | 0 | Low | Cloudflare DNS, no threat indicators |\\n| login-verify-example.com | Domain | **Suspicious** | 65 | Medium | OTX phishing tags, relatively new domain (62 days) |\\n| deadbeef...deadbeef | SHA256 | Benign | 0 | Low | No threat indicators found |\\n\\n## Recommended Next Steps\\n\\n**High Priority (Malicious):**\\n- **https://update-login-secure.com/session**: Block immediately. This appears to be a phishing URL with credential harvesting capabilities. Consider threat hunting for related infrastructure and user education about similar lures.\\n\\n**Medium Priority (Suspicious):**\\n- **login-verify-example.com**: Monitor and consider blocking. Domain shows phishing indicators but needs additional validation. Review any communications or links containing this domain.\\n\\n**Low Priority (Benign):**\\n- **1.1.1.1**: No action needed - legitimate Cloudflare DNS server\\n- **SHA256 hash**: No action needed - no malicious indicators found\\n\\n**MITRE ATT&CK Techniques Identified:**\\n- T1583.001 (Acquire Infrastructure: Domains)\\n- T1566.002 (Phishing: Spearphishing Link)\\n\\nWould you like me to export these results to CSV or STIX format for further analysis or integration with your security tools?', additional_kwargs={}, response_metadata={}, id='run--1b5a8f81-14ae-44e9-b8e1-b51223c46826')]}}\n",
            "\n",
            "=== Done ===\n"
          ]
        }
      ]
    },
    {
      "cell_type": "code",
      "source": [],
      "metadata": {
        "id": "qi4aaVC0gn5b"
      },
      "execution_count": null,
      "outputs": []
    }
  ]
}